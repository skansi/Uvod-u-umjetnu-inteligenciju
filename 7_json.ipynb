{
 "cells": [
  {
   "cell_type": "markdown",
   "metadata": {},
   "source": [
    "<img src=\"hs.png\" width=\"200\">"
   ]
  },
  {
   "cell_type": "markdown",
   "metadata": {},
   "source": [
    "# Sintetički zaposlenici fakulteta #\n",
    "\n",
    "U ovom notebooku ćemo pokazati kako napraviti lažnu listu zaposlenika nekog fakulteta. \n",
    "\n",
    "Na kraju ovog zadatka je proizvedeni JSON file takav da on predstavlja listu zaposlenika. Svaki član liste je dictionary koji ima ključeve:\n",
    "\n",
    "* ime\n",
    "* radnoMjesto\n",
    "* plaća\n",
    "* kolegiji\n",
    "\n",
    "Ovaj JSON mora zadovoljavati neka ograničenja:\n",
    "\n",
    "1. postoje 6 vrsta zaposlenika: dekan, redProf, izvProf, doc, asist, i admin\n",
    "2. oko 30% zaposlenika je administracija (za naše potrebe, dekan nema nastavne obveze i ubrajamo ga u administraciju)\n",
    "3. postoji jedan dekan i dekan ima najvišu plaću, koja je 5% veća od sljedeće najviše plaće\n",
    "4. distribucija znanstveno-nastavnih i suradničkih zvanja (nazivat cemo ih \"nastavnici\") je uniformna\n",
    "5. plaće su: redProf= 12000 +/- 10%, izvProf= 10000 +/- 10%, doc= 8000 +/- 10%, asist= 6000 +/- 10%, admin= 8000 +/- 30% . Varijacije su uniformne (odnosno koristite **randint**)\n",
    "6. broj kolegija je načelno neograničen, njihova imena su kolegij1,kolegij2, kolegij3... U JSONu, svaki nastavnik ima listu svojih **četiri** kolegija. Administracija i dekan imaju praznu listu kolegija.\n",
    "7. ukupan broj zaposlenika je 150\n",
    "\n",
    "\n",
    "Prvi korak je da napravimo funkciju koja će generitati plaću oko odredene \"osnove\" (probajte nekoliko puta pokrenuti sljedeću ćeliju):\n"
   ]
  },
  {
   "cell_type": "code",
   "execution_count": null,
   "metadata": {},
   "outputs": [],
   "source": [
    "from random import randint\n",
    "def izrcPlace(osnova, varijacija=0.1):\n",
    "    return randint(osnova-(osnova*varijacija),osnova+(osnova*varijacija))\n",
    "\n",
    "print(izrcPlace(10000))\n",
    "print(izrcPlace(10000, 0.5))"
   ]
  },
  {
   "cell_type": "markdown",
   "metadata": {},
   "source": [
    "Sljedeće ćemo inicijalizirati vrijednosti i liste koje nam trebaju i koje ćemo onda spajati:"
   ]
  },
  {
   "cell_type": "code",
   "execution_count": null,
   "metadata": {},
   "outputs": [],
   "source": [
    "brojZaposlenika = 150\n",
    "listaImena = [\"osoba\"+str(x) for x in range(1,brojZaposlenika+1)]\n",
    "\n",
    "listaAdmin = [\"admin\" for x in range(1, (round(brojZaposlenika/3)))]\n",
    "print(len(listaAdmin)) # neka ostane 49 radi dekana\n",
    "\n",
    "nastavnici = [\"redProf\",\"izvProf\",\"doc\",\"asist\"]\n",
    "brojNastavnika = brojZaposlenika-len(listaAdmin)-1\n",
    "\n",
    "listaRedProf = [\"redProf\" for x in range(1,round(brojNastavnika/4)+1)]\n",
    "listaIzvProf = [\"izvProf\" for x in range(1,round(brojNastavnika/4)+1)]\n",
    "listaDoc = [\"doc\" for x in range(1,round(brojNastavnika/4)+1)]\n",
    "listaAsist = [\"asist\" for x in range(1,round(brojNastavnika/4)+1)]\n",
    "print(len(listaRedProf), len(listaIzvProf), len(listaDoc), len(listaAsist))"
   ]
  },
  {
   "cell_type": "markdown",
   "metadata": {},
   "source": [
    "Sada možemo početi sastavljati JSON. Sastavit ćemo dvije liste, jednu za nastavnike, a drugu za administraciju i dekana. Prvo krećemo s nastavnicima, jer će nam trebati najveća plaća da izračunamo plaću dekana. Kada je prva verzija gotova, tada ćemo dodati kolegije. Za sada svi dobivaju praznu listu za kolegije. \n",
    "\n",
    "Prvo nam treba dovoljno kolegija, sigurno nam je dovoljno njih 1000:"
   ]
  },
  {
   "cell_type": "code",
   "execution_count": null,
   "metadata": {},
   "outputs": [],
   "source": [
    "listaKolegija = [\"kolegij\"+str(x) for x in range(1,1001)]"
   ]
  },
  {
   "cell_type": "markdown",
   "metadata": {},
   "source": [
    "Sada radimo prvi dio JSONa, sa nastavnicima:"
   ]
  },
  {
   "cell_type": "code",
   "execution_count": null,
   "metadata": {},
   "outputs": [],
   "source": [
    "from random import shuffle\n",
    "gotovo_Red_Izv_Doc = []\n",
    "listaZnNastavnici = listaRedProf + listaIzvProf + listaDoc + listaAsist\n",
    "shuffle(listaZnNastavnici)\n",
    "#print(listaZnNastavnici)\n",
    "counter=0\n",
    "for i in listaZnNastavnici:\n",
    "    #print(i)\n",
    "    novi={}\n",
    "    novi[\"radnoMjesto\"]=i\n",
    "    if i==\"redProf\":\n",
    "        mark=12000\n",
    "    elif i==\"izvProf\":\n",
    "        mark=10000\n",
    "    elif i==\"doc\":\n",
    "        mark=8000\n",
    "    elif i==\"asist\":\n",
    "        mark=6000\n",
    "    novi[\"placa\"]= izrcPlace(mark)\n",
    "    novi[\"kolegiji\"]=[listaKolegija[counter],listaKolegija[counter+1],listaKolegija[counter+2],listaKolegija[counter+3]]\n",
    "    counter=counter+4\n",
    "    gotovo_Red_Izv_Doc.append(novi)\n",
    "print(gotovo_Red_Izv_Doc)\n",
    "    "
   ]
  },
  {
   "cell_type": "markdown",
   "metadata": {},
   "source": [
    "Sada trebamo napraviti isto za administraciju (dekana ćemo ručno dodati u sljedećoj ćeliji):"
   ]
  },
  {
   "cell_type": "code",
   "execution_count": null,
   "metadata": {},
   "outputs": [],
   "source": [
    "from random import shuffle\n",
    "gotovo_Admin = []\n",
    "shuffle(listaAdmin)\n",
    "print(len(listaAdmin))\n",
    "for i in listaAdmin:\n",
    "    #print(i)\n",
    "    novi={}\n",
    "    novi[\"radnoMjesto\"]=i\n",
    "    mark=8000    \n",
    "    novi[\"placa\"]= izrcPlace(mark,0.3)\n",
    "    novi[\"kolegiji\"]=[]\n",
    "    gotovo_Admin.append(novi)\n",
    "print(gotovo_Admin)"
   ]
  },
  {
   "cell_type": "markdown",
   "metadata": {},
   "source": [
    "Sada ručno dodajemo dekana, ali pazimo na izračun plaće:"
   ]
  },
  {
   "cell_type": "code",
   "execution_count": null,
   "metadata": {},
   "outputs": [],
   "source": [
    "skoroGotovo=gotovo_Red_Izv_Doc+gotovo_Admin\n",
    "place=[x[\"placa\"] for x in skoroGotovo]\n",
    "najvecaPlaca=max(place)\n",
    "print(najvecaPlaca)\n",
    "placaDekana=najvecaPlaca+0.05*najvecaPlaca\n",
    "dekan=[{\"radnoMjesto\":\"dekan\", \"placa\":placaDekana, \"kolegiji\":[]}]\n",
    "print(dekan)\n",
    "gotovo=skoroGotovo+dekan"
   ]
  },
  {
   "cell_type": "markdown",
   "metadata": {},
   "source": [
    "Sada spajamo sve u jednu listu, i dopunjujemo s imenima"
   ]
  },
  {
   "cell_type": "code",
   "execution_count": null,
   "metadata": {},
   "outputs": [],
   "source": [
    "counter=0\n",
    "for i in gotovo:\n",
    "    i[\"ime\"]=listaImena[counter]\n",
    "    counter=counter+1\n",
    "print(gotovo[:5])    "
   ]
  },
  {
   "cell_type": "markdown",
   "metadata": {},
   "source": [
    "I na kraju, cijelu listu spremamo u JSON file:"
   ]
  },
  {
   "cell_type": "code",
   "execution_count": null,
   "metadata": {},
   "outputs": [],
   "source": [
    "import json\n",
    "Datoteka=open(\"faukltet.json\",\"w\")\n",
    "sadrzaj=str(json.dumps(gotovo))\n",
    "print(sadrzaj)\n",
    "Datoteka.writelines(sadrzaj)\n",
    "Datoteka.close()"
   ]
  }
 ],
 "metadata": {
  "kernelspec": {
   "display_name": "Python 3 (ipykernel)",
   "language": "python",
   "name": "python3"
  },
  "language_info": {
   "codemirror_mode": {
    "name": "ipython",
    "version": 3
   },
   "file_extension": ".py",
   "mimetype": "text/x-python",
   "name": "python",
   "nbconvert_exporter": "python",
   "pygments_lexer": "ipython3",
   "version": "3.9.13"
  }
 },
 "nbformat": 4,
 "nbformat_minor": 2
}
