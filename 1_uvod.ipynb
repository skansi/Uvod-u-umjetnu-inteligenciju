{
 "cells": [
  {
   "cell_type": "markdown",
   "metadata": {},
   "source": [
    "<img src=\"hs.png\" width=\"200\">"
   ]
  },
  {
   "cell_type": "markdown",
   "metadata": {},
   "source": [
    "# Osnove Pythona (1 od 3)\n",
    "\n",
    "Koristit ćemo jezik Python 3 i obilnu količinu primjera i ilustracija. Također, naučit ćete korak po korak kako izgleda Python programski kod, i bit će nam drago da vam ovo ujedno bude poticaj za učenje Pythona koji je u današnjem svijetu iznimno koristan.\n",
    "\n",
    "Ovaj notebook se sastoji od tekstualnih ćelija i ćelija Python koda. Tekstualne ćelije čitajte (i prema želji dorađujte i dopunjujte), a Python ćelije izvršavajte. Da biste to napravili, kliknete na sljedeću ćeliju (gdje piše \"**In[   ]**\"), i stisnete *Shift+Enter(Return)*. Pričekajte dok piše \"**In[\\*]**\" i dok ne vidite \"**In[1]**\", što znači da je izračun gotov. Kao rezultat biste trebali dobiti \"Hello, world!\"."
   ]
  },
  {
   "cell_type": "code",
   "execution_count": null,
   "metadata": {},
   "outputs": [],
   "source": [
    "print(\"Hello, world!\")"
   ]
  },
  {
   "cell_type": "markdown",
   "metadata": {},
   "source": [
    "Ovime se susrećemo s dvije osnovne gradivne jedinice Pythona:\n",
    "\n",
    "* ugrađene funkcije: **print(---)**\n",
    "* stringovi: **\"Hello, world!\"**\n",
    "\n",
    "## Funkcije ugrađene u Python\n",
    "\n",
    "Ugrađene funkcije su funkcije koje se ne treba definirati, nego su dostupne s Pythonom prilikom instalacije. To su sve standardne funkcije, poput aritmetickih, logičkih, printanje, otvaranje fileova i slično. Točnije rečeno, u Pythonu 3 to su funkcije (ako vam djeluje puno, uzmite u obzir da ćete koristiti možda deset njih, ostale su vrlo specifične, ali je važno da ih vidite):\n",
    "\n",
    "<table class=\"docutils\" border=\"1\">\n",
    "<colgroup>\n",
    "<col width=\"21%\">\n",
    "<col width=\"19%\">\n",
    "<col width=\"20%\">\n",
    "<col width=\"18%\">\n",
    "<col width=\"22%\">\n",
    "</colgroup>\n",
    "<thead valign=\"bottom\">\n",
    "<tr class=\"row-odd\"><th class=\"head\"></th>\n",
    "<th class=\"head\"></th>\n",
    "<th class=\"head\">Built-in Functions</th>\n",
    "<th class=\"head\"></th>\n",
    "<th class=\"head\"></th>\n",
    "</tr>\n",
    "</thead>\n",
    "<tbody valign=\"top\">\n",
    "<tr class=\"row-even\"><td><a class=\"reference internal\" href=\"#abs\" title=\"abs\"><code class=\"xref py py-func docutils literal\"><span class=\"pre\">abs()</span></code></a></td>\n",
    "<td><a class=\"reference internal\" href=\"#func-dict\"><code class=\"docutils literal\"><span class=\"pre\">dict()</span></code></a></td>\n",
    "<td><a class=\"reference internal\" href=\"#help\" title=\"help\"><code class=\"xref py py-func docutils literal\"><span class=\"pre\">help()</span></code></a></td>\n",
    "<td><a class=\"reference internal\" href=\"#min\" title=\"min\"><code class=\"xref py py-func docutils literal\"><span class=\"pre\">min()</span></code></a></td>\n",
    "<td><a class=\"reference internal\" href=\"#setattr\" title=\"setattr\"><code class=\"xref py py-func docutils literal\"><span class=\"pre\">setattr()</span></code></a></td>\n",
    "</tr>\n",
    "<tr class=\"row-odd\"><td><a class=\"reference internal\" href=\"#all\" title=\"all\"><code class=\"xref py py-func docutils literal\"><span class=\"pre\">all()</span></code></a></td>\n",
    "<td><a class=\"reference internal\" href=\"#dir\" title=\"dir\"><code class=\"xref py py-func docutils literal\"><span class=\"pre\">dir()</span></code></a></td>\n",
    "<td><a class=\"reference internal\" href=\"#hex\" title=\"hex\"><code class=\"xref py py-func docutils literal\"><span class=\"pre\">hex()</span></code></a></td>\n",
    "<td><a class=\"reference internal\" href=\"#next\" title=\"next\"><code class=\"xref py py-func docutils literal\"><span class=\"pre\">next()</span></code></a></td>\n",
    "<td><a class=\"reference internal\" href=\"#slice\" title=\"slice\"><code class=\"xref py py-func docutils literal\"><span class=\"pre\">slice()</span></code></a></td>\n",
    "</tr>\n",
    "<tr class=\"row-even\"><td><a class=\"reference internal\" href=\"#any\" title=\"any\"><code class=\"xref py py-func docutils literal\"><span class=\"pre\">any()</span></code></a></td>\n",
    "<td><a class=\"reference internal\" href=\"#divmod\" title=\"divmod\"><code class=\"xref py py-func docutils literal\"><span class=\"pre\">divmod()</span></code></a></td>\n",
    "<td><a class=\"reference internal\" href=\"#id\" title=\"id\"><code class=\"xref py py-func docutils literal\"><span class=\"pre\">id()</span></code></a></td>\n",
    "<td><a class=\"reference internal\" href=\"#object\" title=\"object\"><code class=\"xref py py-func docutils literal\"><span class=\"pre\">object()</span></code></a></td>\n",
    "<td><a class=\"reference internal\" href=\"#sorted\" title=\"sorted\"><code class=\"xref py py-func docutils literal\"><span class=\"pre\">sorted()</span></code></a></td>\n",
    "</tr>\n",
    "<tr class=\"row-odd\"><td><a class=\"reference internal\" href=\"#ascii\" title=\"ascii\"><code class=\"xref py py-func docutils literal\"><span class=\"pre\">ascii()</span></code></a></td>\n",
    "<td><a class=\"reference internal\" href=\"#enumerate\" title=\"enumerate\"><code class=\"xref py py-func docutils literal\"><span class=\"pre\">enumerate()</span></code></a></td>\n",
    "<td><a class=\"reference internal\" href=\"#input\" title=\"input\"><code class=\"xref py py-func docutils literal\"><span class=\"pre\">input()</span></code></a></td>\n",
    "<td><a class=\"reference internal\" href=\"#oct\" title=\"oct\"><code class=\"xref py py-func docutils literal\"><span class=\"pre\">oct()</span></code></a></td>\n",
    "<td><a class=\"reference internal\" href=\"#staticmethod\" title=\"staticmethod\"><code class=\"xref py py-func docutils literal\"><span class=\"pre\">staticmethod()</span></code></a></td>\n",
    "</tr>\n",
    "<tr class=\"row-even\"><td><a class=\"reference internal\" href=\"#bin\" title=\"bin\"><code class=\"xref py py-func docutils literal\"><span class=\"pre\">bin()</span></code></a></td>\n",
    "<td><a class=\"reference internal\" href=\"#eval\" title=\"eval\"><code class=\"xref py py-func docutils literal\"><span class=\"pre\">eval()</span></code></a></td>\n",
    "<td><a class=\"reference internal\" href=\"#int\" title=\"int\"><code class=\"xref py py-func docutils literal\"><span class=\"pre\">int()</span></code></a></td>\n",
    "<td><a class=\"reference internal\" href=\"#open\" title=\"open\"><code class=\"xref py py-func docutils literal\"><span class=\"pre\">open()</span></code></a></td>\n",
    "<td><a class=\"reference internal\" href=\"#func-str\"><code class=\"docutils literal\"><span class=\"pre\">str()</span></code></a></td>\n",
    "</tr>\n",
    "<tr class=\"row-odd\"><td><a class=\"reference internal\" href=\"#bool\" title=\"bool\"><code class=\"xref py py-func docutils literal\"><span class=\"pre\">bool()</span></code></a></td>\n",
    "<td><a class=\"reference internal\" href=\"#exec\" title=\"exec\"><code class=\"xref py py-func docutils literal\"><span class=\"pre\">exec()</span></code></a></td>\n",
    "<td><a class=\"reference internal\" href=\"#isinstance\" title=\"isinstance\"><code class=\"xref py py-func docutils literal\"><span class=\"pre\">isinstance()</span></code></a></td>\n",
    "<td><a class=\"reference internal\" href=\"#ord\" title=\"ord\"><code class=\"xref py py-func docutils literal\"><span class=\"pre\">ord()</span></code></a></td>\n",
    "<td><a class=\"reference internal\" href=\"#sum\" title=\"sum\"><code class=\"xref py py-func docutils literal\"><span class=\"pre\">sum()</span></code></a></td>\n",
    "</tr>\n",
    "<tr class=\"row-even\"><td><a class=\"reference internal\" href=\"#bytearray\" title=\"bytearray\"><code class=\"xref py py-func docutils literal\"><span class=\"pre\">bytearray()</span></code></a></td>\n",
    "<td><a class=\"reference internal\" href=\"#filter\" title=\"filter\"><code class=\"xref py py-func docutils literal\"><span class=\"pre\">filter()</span></code></a></td>\n",
    "<td><a class=\"reference internal\" href=\"#issubclass\" title=\"issubclass\"><code class=\"xref py py-func docutils literal\"><span class=\"pre\">issubclass()</span></code></a></td>\n",
    "<td><a class=\"reference internal\" href=\"#pow\" title=\"pow\"><code class=\"xref py py-func docutils literal\"><span class=\"pre\">pow()</span></code></a></td>\n",
    "<td><a class=\"reference internal\" href=\"#super\" title=\"super\"><code class=\"xref py py-func docutils literal\"><span class=\"pre\">super()</span></code></a></td>\n",
    "</tr>\n",
    "<tr class=\"row-odd\"><td><a class=\"reference internal\" href=\"#bytes\" title=\"bytes\"><code class=\"xref py py-func docutils literal\"><span class=\"pre\">bytes()</span></code></a></td>\n",
    "<td><a class=\"reference internal\" href=\"#float\" title=\"float\"><code class=\"xref py py-func docutils literal\"><span class=\"pre\">float()</span></code></a></td>\n",
    "<td><a class=\"reference internal\" href=\"#iter\" title=\"iter\"><code class=\"xref py py-func docutils literal\"><span class=\"pre\">iter()</span></code></a></td>\n",
    "<td><a class=\"reference internal\" href=\"#print\" title=\"print\"><code class=\"xref py py-func docutils literal\"><span class=\"pre\">print()</span></code></a></td>\n",
    "<td><a class=\"reference internal\" href=\"#func-tuple\"><code class=\"docutils literal\"><span class=\"pre\">tuple()</span></code></a></td>\n",
    "</tr>\n",
    "<tr class=\"row-even\"><td><a class=\"reference internal\" href=\"#callable\" title=\"callable\"><code class=\"xref py py-func docutils literal\"><span class=\"pre\">callable()</span></code></a></td>\n",
    "<td><a class=\"reference internal\" href=\"#format\" title=\"format\"><code class=\"xref py py-func docutils literal\"><span class=\"pre\">format()</span></code></a></td>\n",
    "<td><a class=\"reference internal\" href=\"#len\" title=\"len\"><code class=\"xref py py-func docutils literal\"><span class=\"pre\">len()</span></code></a></td>\n",
    "<td><a class=\"reference internal\" href=\"#property\" title=\"property\"><code class=\"xref py py-func docutils literal\"><span class=\"pre\">property()</span></code></a></td>\n",
    "<td><a class=\"reference internal\" href=\"#type\" title=\"type\"><code class=\"xref py py-func docutils literal\"><span class=\"pre\">type()</span></code></a></td>\n",
    "</tr>\n",
    "<tr class=\"row-odd\"><td><a class=\"reference internal\" href=\"#chr\" title=\"chr\"><code class=\"xref py py-func docutils literal\"><span class=\"pre\">chr()</span></code></a></td>\n",
    "<td><a class=\"reference internal\" href=\"#func-frozenset\"><code class=\"docutils literal\"><span class=\"pre\">frozenset()</span></code></a></td>\n",
    "<td><a class=\"reference internal\" href=\"#func-list\"><code class=\"docutils literal\"><span class=\"pre\">list()</span></code></a></td>\n",
    "<td><a class=\"reference internal\" href=\"#func-range\"><code class=\"docutils literal\"><span class=\"pre\">range()</span></code></a></td>\n",
    "<td><a class=\"reference internal\" href=\"#vars\" title=\"vars\"><code class=\"xref py py-func docutils literal\"><span class=\"pre\">vars()</span></code></a></td>\n",
    "</tr>\n",
    "<tr class=\"row-even\"><td><a class=\"reference internal\" href=\"#classmethod\" title=\"classmethod\"><code class=\"xref py py-func docutils literal\"><span class=\"pre\">classmethod()</span></code></a></td>\n",
    "<td><a class=\"reference internal\" href=\"#getattr\" title=\"getattr\"><code class=\"xref py py-func docutils literal\"><span class=\"pre\">getattr()</span></code></a></td>\n",
    "<td><a class=\"reference internal\" href=\"#locals\" title=\"locals\"><code class=\"xref py py-func docutils literal\"><span class=\"pre\">locals()</span></code></a></td>\n",
    "<td><a class=\"reference internal\" href=\"#repr\" title=\"repr\"><code class=\"xref py py-func docutils literal\"><span class=\"pre\">repr()</span></code></a></td>\n",
    "<td><a class=\"reference internal\" href=\"#zip\" title=\"zip\"><code class=\"xref py py-func docutils literal\"><span class=\"pre\">zip()</span></code></a></td>\n",
    "</tr>\n",
    "<tr class=\"row-odd\"><td><a class=\"reference internal\" href=\"#compile\" title=\"compile\"><code class=\"xref py py-func docutils literal\"><span class=\"pre\">compile()</span></code></a></td>\n",
    "<td><a class=\"reference internal\" href=\"#globals\" title=\"globals\"><code class=\"xref py py-func docutils literal\"><span class=\"pre\">globals()</span></code></a></td>\n",
    "<td><a class=\"reference internal\" href=\"#map\" title=\"map\"><code class=\"xref py py-func docutils literal\"><span class=\"pre\">map()</span></code></a></td>\n",
    "<td><a class=\"reference internal\" href=\"#reversed\" title=\"reversed\"><code class=\"xref py py-func docutils literal\"><span class=\"pre\">reversed()</span></code></a></td>\n",
    "<td><a class=\"reference internal\" href=\"#__import__\" title=\"__import__\"><code class=\"xref py py-func docutils literal\"><span class=\"pre\">__import__()</span></code></a></td>\n",
    "</tr>\n",
    "<tr class=\"row-even\"><td><a class=\"reference internal\" href=\"#complex\" title=\"complex\"><code class=\"xref py py-func docutils literal\"><span class=\"pre\">complex()</span></code></a></td>\n",
    "<td><a class=\"reference internal\" href=\"#hasattr\" title=\"hasattr\"><code class=\"xref py py-func docutils literal\"><span class=\"pre\">hasattr()</span></code></a></td>\n",
    "<td><a class=\"reference internal\" href=\"#max\" title=\"max\"><code class=\"xref py py-func docutils literal\"><span class=\"pre\">max()</span></code></a></td>\n",
    "<td><a class=\"reference internal\" href=\"#round\" title=\"round\"><code class=\"xref py py-func docutils literal\"><span class=\"pre\">round()</span></code></a></td>\n",
    "<td>&nbsp;</td>\n",
    "</tr>\n",
    "<tr class=\"row-odd\"><td><a class=\"reference internal\" href=\"#delattr\" title=\"delattr\"><code class=\"xref py py-func docutils literal\"><span class=\"pre\">delattr()</span></code></a></td>\n",
    "<td><a class=\"reference internal\" href=\"#hash\" title=\"hash\"><code class=\"xref py py-func docutils literal\"><span class=\"pre\">hash()</span></code></a></td>\n",
    "<td><a class=\"reference internal\" href=\"#func-memoryview\"><code class=\"docutils literal\"><span class=\"pre\">memoryview()</span></code></a></td>\n",
    "<td><a class=\"reference internal\" href=\"#func-set\"><code class=\"docutils literal\"><span class=\"pre\">set()</span></code></a></td>\n",
    "<td>&nbsp;</td>\n",
    "</tr>\n",
    "</tbody>\n",
    "</table>"
   ]
  },
  {
   "cell_type": "markdown",
   "metadata": {},
   "source": [
    "## Tipovi\n",
    "\n",
    "**Stringovi** (oznaka: str) su niz znakova koje ne želimo da Python interpretira kao naredbu, nego da ih tretira kao tekst. Stringovi su zatvoreni u polunavodnike 'string1' ili navodnike \"string2\". Može ih se pisati i na jedan i na drugi način. **Prazan string** se zapisuje kao \"\" ili kao ''\n",
    "\n",
    "Drugi osnovni tip podataka su **cijeli brojevi** (int), i oni se zapisuju kao -2,-1,0,1,2,... Treći su **decimalni brojevi** (float) i oni se uvijek moraju pisati s točkom. Npr. 1.0 umjesto samo 1.\n",
    "\n",
    "Stringovi i cijeli brojevi su podatci, ali su različitog **tipa**. Tako na primjer \"1\" kao string i 1 nisu isto. Probajte izvršiti donju ćeliju:"
   ]
  },
  {
   "cell_type": "code",
   "execution_count": null,
   "metadata": {},
   "outputs": [],
   "source": [
    "\"1\"==1"
   ]
  },
  {
   "cell_type": "markdown",
   "metadata": {},
   "source": [
    "Probajte zamijeniti tako da bude isto (1==1 ili \"1\"==\"1\") pa probajte ponovno, a također uočite kako se piše jednakost u Pythonu. Pokusajte sada ćeliju ispod:"
   ]
  },
  {
   "cell_type": "code",
   "execution_count": null,
   "metadata": {},
   "outputs": [],
   "source": [
    "\"1\"!=1"
   ]
  },
  {
   "cell_type": "markdown",
   "metadata": {},
   "source": [
    "Simbol != znači \"nije jednako\". \n",
    "\n",
    "**== znači \"jednako\", a != znači \"nije jednako\"**.\n",
    "\n",
    "Ostali tipovi podataka liste, rječnici, parovi, skupovi i još neki manje zastupljeni. Ostale tipove podataka ćete upoznati u sljedećem notebooku. Probajte izvršiti ćeliju ispod:"
   ]
  },
  {
   "cell_type": "code",
   "execution_count": null,
   "metadata": {},
   "outputs": [],
   "source": [
    "1.0==1"
   ]
  },
  {
   "cell_type": "markdown",
   "metadata": {},
   "source": [
    "Ovdje vidimo da Python ne zna pretvoriti **str** u **int** (\"1\"!=1), ali zna pretvoriti **float** u **int**. Ova pretvorba iz jednog tipa u drugi tip istog podatka se naziva *casting*. Python ako ikako zna automatski *casta* jedan tip u drugi. Probajte izvršiti ćeliju ispod:"
   ]
  },
  {
   "cell_type": "code",
   "execution_count": null,
   "metadata": {},
   "outputs": [],
   "source": [
    "\"Dobio sam \" + 5"
   ]
  },
  {
   "cell_type": "markdown",
   "metadata": {},
   "source": [
    "Python daje error kojim kaže da ne želi konvertirati broj u string bez galame. Ovo kaže zato što kada se broj pretvori u string, onda se izgubi mogućnost da se tretira kao broj (da se s njim zbraja i množi), nego postaje običan znak kao na primjer \"G\". Izvršite ćeliju ispod:"
   ]
  },
  {
   "cell_type": "code",
   "execution_count": null,
   "metadata": {},
   "outputs": [],
   "source": [
    "\"1\"+\"1\""
   ]
  },
  {
   "cell_type": "markdown",
   "metadata": {},
   "source": [
    "Python interpretira + kao spajanje stringova ako se nalazi između stringova (ovo se naziva **konkatenacija**), a kao zbrajanje ako se nalazi između brojeva. Što ako se nađe između broja i stringa? Pogledajmo:"
   ]
  },
  {
   "cell_type": "code",
   "execution_count": null,
   "metadata": {},
   "outputs": [],
   "source": [
    "\"1\"+5"
   ]
  },
  {
   "cell_type": "markdown",
   "metadata": {},
   "source": [
    "Vidimo opet isti *error* kao i gore. Python bi teoretski mogao reći \"kada je već jedan string, onda ću i drugog tretirati kao string i vratiti \"15\", jer ne mogu stringo zbrajati\". Tako radi Java, ali Python se trudi nas upozoriti na to da se ne potkrade bug, jer postoji šansa da smo mi htjeli zbrajati i slučajno jednog pribrojnika pretvorili u string. Ovo je posebno često slučaj kada u se složenim programima prosljeđuje ne čisti podatak nego varijabla. \n",
    "\n",
    "Da bismo riješili problem možemo napraviti ili:"
   ]
  },
  {
   "cell_type": "code",
   "execution_count": null,
   "metadata": {},
   "outputs": [],
   "source": [
    "\"1\"+str(5)"
   ]
  },
  {
   "cell_type": "markdown",
   "metadata": {},
   "source": [
    "Ili pak, ako smo htjeli zbrajati:"
   ]
  },
  {
   "cell_type": "code",
   "execution_count": null,
   "metadata": {},
   "outputs": [],
   "source": [
    "int(\"1\")+5"
   ]
  },
  {
   "cell_type": "markdown",
   "metadata": {},
   "source": [
    "I to je to. \n",
    "\n",
    "Dobar posao, na pola notebooka smo i najteži dio je iza nas."
   ]
  },
  {
   "cell_type": "markdown",
   "metadata": {},
   "source": [
    "## Složene funkcije\n",
    "Moguće je slagati kompleksne funkcije od unaprijed definiranih funkcija (stisnite Shift+Enter na donjoj ćeliji):\n"
   ]
  },
  {
   "cell_type": "code",
   "execution_count": null,
   "metadata": {},
   "outputs": [],
   "source": [
    "def oduzmi_jedan(varijabla):                 #ovo nam je prvi redak koda\n",
    "    print(\"Dobio sam: \" + str(varijabla))    #ovo je drugi...\n",
    "    return \"Vracam: \" + str(varijabla - 1)\n",
    "oduzmi_jedan(53)"
   ]
  },
  {
   "cell_type": "markdown",
   "metadata": {},
   "source": [
    "Pogledajmo anatomiju ovog koda, jer se sve (koliko god) složene funkcije izgrađuju na isti način. Analizirajmo po retcima:\n",
    "\n",
    "1. Prvi redak, definicija funkcije:\n",
    "  * izraz **def**: on služi da Python zna da želimo definirati funkciju, time se uvijek počinje.\n",
    "  * izraz **oduzmi_jedan(varijabla)**: Prvi dio, **oduzmi_jedan** je naše ime za funkciju. Možemo izabrati ime, ali svaki put kada nam treba ta funkcija moramo je pozvati s tim imenom. Važno je da stvari ne imenujemo kao što se interni elementi Pythona nazivaju, npr. \"list\" ili \"max\". Kao neformalno pravilo, ako koristite hrvatske riječi, bit će sve u redu. Drugi dio **(varijabla)** je dio gdje će Python očekivati neku vrijednost, a *varijabla* mu \"čuva mjesto\". Ovo se naziva *argumentom* i to je isto kao x u matematičkom zapisu neke funkcije f(x)=56x+3 . Unutar funkcije kada želimo govoriti o tom predmetu kojeg funkcija prima, koristimo naziv koji mu je tu dodijeljen pri definiciji funkcije.\n",
    "  * dvotočka\n",
    "  * komentar na kraju: komenari u Pythonu počinju s #, i traju do kraja retka. Komentar je sličan stringu po tome što ga Python ne pokušava interpretirati, ali za razliku od stringa kojeg Python \"vraća kakav je\", komentare Python ignorira--za njega oni ne postoje.\n",
    "  \n",
    "   \n",
    "2. Drugi redak, početak \"tijela\":\n",
    " * Počinje s Tabom ili *četiri* razmaka: ovo Pythonu znači da smo sad ušli u definiciju funkcije, i dok god novi retci počinju s Tabom ili razmacima, Python će ih tretirati to kao dio definicije te funkcije.\n",
    " * zatim imamo poziv ugrađene funkcije **print** koja ima složen argument: Argument se sastoji od (a) stringa \"Dobio sam: \" [uočite razmak pred kraj stringa i razmislite zašto smo to stavili [i probajte to maknuti i vidjeti što se događa]], (b) operacije + (koja se interpratira kao spajanje, odnosno konkatenacija), i (c) ugrađene funkcije *castanja* **str**(varijabla)\n",
    " \n",
    " \n",
    "3. Treći redak, \"rep\" funkcije:\n",
    " * Ovdje se s -1 nad varijablom događa glavna aritmetika naše funkcije, ali to nam nije zanimljivo. Uočite samo da izbjegavamo hrvatska slova u kodu pa stavljamo \"Vracam: \", a ne \"Vraćam: \". Naglasak je da ih se treba izbjegavati u kodu, ali je savršeno u redu da se učitavaju datoteke u Python s hrvatskim slovima.\n",
    " * Početak retka ima **return**. To označava kraj funkcije i to je ono što će funkcija vratiti kada ju se jednom **pozove** (poziv funkcije s argumentom 53 se nalazi u sljedećem retku). Ovo je zadnji redak koji ima Tab, odnosno *indentaciju*. Ovo mora biti tako, jer je **return** iznimno jaka naredba i Python ju uvijek sluša. Ako slučajno dio funkcije ostane ispod **return**, taj se dio nikada neće izvršiti.\n",
    "  "
   ]
  },
  {
   "cell_type": "markdown",
   "metadata": {},
   "source": [
    "## Blok\n",
    "\n",
    "**Iza bilo kojeg retka koji završava s dvotočkom slijedi barem jedan redak koji započinje s Tabom.** Ovo se naziva **blok koda**. \n",
    "\n",
    "Postoji nekoliko tipova blokova u Pythonu:\n",
    "\n",
    "1. Definicija funkcije (to smo vidjeli)\n",
    "2. If-grananje (ovo ćemo sad vidjeti)\n",
    "3. For-petlja (ovo će biti u Notebooku 3/3)\n",
    "4. While-petlja (ovo će biti u Notebooku 3/3)\n",
    "\n",
    "U ovom notebooku ćemo još proći **If-grananje**. Zamislimo da imamo jednostavan primjer. Želimo definirati funkciju koja sve troznamenkaste brojeve i veće pretvara u stringove, a sve brojeve manje od 10 pretvara u floateve. Sve ostale brojeve vraća kakvi jesu. Izvršite donju ćeliju:"
   ]
  },
  {
   "cell_type": "code",
   "execution_count": null,
   "metadata": {},
   "outputs": [],
   "source": [
    "def dorada_br(broj):\n",
    "    if broj >= 100:\n",
    "        return str(broj)\n",
    "    elif broj < 10:#elif je skraceno od else+if\n",
    "        return float(broj)\n",
    "    else:\n",
    "        return broj\n",
    "    \n",
    "#idemo provjeriti je li dobro\n",
    "print(dorada_br(144))\n",
    "print(dorada_br(144) == \"144\")#ovako testirajte ako se ne vidi tip iz rezultata\n",
    "print(dorada_br(99))\n",
    "print(dorada_br(5))\n"
   ]
  },
  {
   "cell_type": "markdown",
   "metadata": {},
   "source": [
    "Uočimo strukturu linije s **if**: \n",
    "\n",
    "Znači ide **if broj >= 100** (>= znači \"veće ili jednako\"). Ovaj dio **broj >= 100** može biti istinit ili neistinit (True, False), *ovisno o tome što dođe za **broj***. Ovo se naziva **izraz**. Uočimo finesu da izraz sam po sebi nije istinit ili neistinit, ali će unutar bloka koda neki njegovi dijelovi (u našem primjeru varijabla **broj**) dobiti vrijednost i postati istinit ili neistinit."
   ]
  },
  {
   "cell_type": "markdown",
   "metadata": {},
   "source": [
    "## Pridruživanje vrijednosti varijablama (assignment)\n",
    "\n",
    "U Pythonu je moguće u varijablama pohranjivati vrijednosti. To se radi sa znakom = (prisjetimo se da je jednakost ==). Ovo je sastavni dio većine programa. To se radi na sljedeći način:"
   ]
  },
  {
   "cell_type": "code",
   "execution_count": null,
   "metadata": {},
   "outputs": [],
   "source": [
    "najvisa_ocjena = 5\n",
    "najniza_ocjena = 1\n",
    "print(najvisa_ocjena)"
   ]
  },
  {
   "cell_type": "markdown",
   "metadata": {},
   "source": [
    "Uočimo da ovdje nema komutativnosti: *mora* biti **najvisa_ocjena = 5** a ne **5 = najvisa_ocjena**.\n",
    "\n",
    "Ako se varijabli pridruži vrijednost unutar bloka koda, onda nje više nema kada se izađe iz bloka, i takva se varijabla naziva **lokalna**:"
   ]
  },
  {
   "cell_type": "code",
   "execution_count": null,
   "metadata": {},
   "outputs": [],
   "source": [
    "def testna():#uocimo kako je ovo funkcija koja ne prima argumente. Upotreba () je obavezna.\n",
    "    lokalna_varijabla = 42\n",
    "    print(\"Test 1\") #ovo bi trebalo ispisati \"Test 1\" kada se funkcija pokrene\n",
    "    print(lokalna_varijabla) #ovo bi trebalo ispisati 42 kada se funkcija pokrene\n",
    "    \n",
    "\n",
    "testna() #ovo je pokretanje funkcije testna()\n"
   ]
  },
  {
   "cell_type": "markdown",
   "metadata": {},
   "source": [
    "Ovo dobro funkcionira, no pogledajmo što se dogodi kada se pozove izvan bloka:"
   ]
  },
  {
   "cell_type": "code",
   "execution_count": null,
   "metadata": {},
   "outputs": [],
   "source": [
    "def testna():\n",
    "    lokalna_varijabla = 42\n",
    "    print(\"Test 2\")\n",
    "\n",
    "testna() #ovo je pokretanje funkcije testna() koja bi trebala ispisati \"Test 2\"\n",
    "print(lokalna_varijabla) #ovo bi trebalo ispisati 42"
   ]
  },
  {
   "cell_type": "markdown",
   "metadata": {},
   "source": [
    "Python ovime želi reći da varijabla **lokalna_varijabla** nije definirana u trenutku kada je pozvana. Pogledajmo kako se ponašaju **globalne** varijable kada ih pozovemo unutar bloka:"
   ]
  },
  {
   "cell_type": "code",
   "execution_count": null,
   "metadata": {},
   "outputs": [],
   "source": [
    "globalna_varijabla = 42\n",
    "def testna():\n",
    "    print(\"Test 3\") \n",
    "    print(globalna_varijabla) \n",
    "    \n",
    "testna() "
   ]
  },
  {
   "cell_type": "markdown",
   "metadata": {},
   "source": [
    "Naravno, kada je varijabla definirana van bloka, onda ju možemo i pozvati van bloka bez obzira na blok:"
   ]
  },
  {
   "cell_type": "code",
   "execution_count": null,
   "metadata": {},
   "outputs": [],
   "source": [
    "globalna_varijabla = 42\n",
    "def testna():\n",
    "    print(\"Test 4\") \n",
    "\n",
    "testna() \n",
    "print(globalna_varijabla) "
   ]
  }
 ],
 "metadata": {
  "kernelspec": {
   "display_name": "Python 3 (ipykernel)",
   "language": "python",
   "name": "python3"
  },
  "language_info": {
   "codemirror_mode": {
    "name": "ipython",
    "version": 3
   },
   "file_extension": ".py",
   "mimetype": "text/x-python",
   "name": "python",
   "nbconvert_exporter": "python",
   "pygments_lexer": "ipython3",
   "version": "3.9.13"
  }
 },
 "nbformat": 4,
 "nbformat_minor": 1
}
