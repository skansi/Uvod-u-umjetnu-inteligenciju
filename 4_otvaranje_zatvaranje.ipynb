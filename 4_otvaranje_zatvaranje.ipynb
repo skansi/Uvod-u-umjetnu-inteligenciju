{
 "cells": [
  {
   "cell_type": "markdown",
   "metadata": {},
   "source": [
    "<img src=\"hs.png\" width=\"200\">"
   ]
  },
  {
   "cell_type": "markdown",
   "metadata": {},
   "source": [
    "# Otvaranje i zatvaranje datoteka #\n",
    "\n",
    "U ovom ćemo notebooku naučiti kako otvarati i zatvarati fileove u Pythonu. Svako programiranje je u svojoj biti *parsing*: neki file se otvori, raskomadaju se podatci i modificiraju, sasatave se u neki oblik, i zatim se spreme u neki drugi file (ili u isti tako da prebrišu stare vrijednosti). Dobro je misliti o svakom zadatku u programiranju na ovaj način.\n",
    "\n",
    "Treba nam neki početni file kojeg ćemo generirati sljedećim kodom:"
   ]
  },
  {
   "cell_type": "code",
   "execution_count": null,
   "metadata": {},
   "outputs": [],
   "source": [
    "prvaDatoteka=open(\"prviPodatci.json\",\"w\")\n",
    "sadrzaj='[{\"ime\": \"Ana\",\"visina\":156}, {\"ime\": \"Branimir\", \"visina\": 189}, {\"ime\": \"Coco\", \"visina\": 176}]'\n",
    "prvaDatoteka.writelines(sadrzaj)\n",
    "prvaDatoteka.close()"
   ]
  },
  {
   "cell_type": "markdown",
   "metadata": {},
   "source": [
    "Ovime smo napravili sljedeće: \n",
    "\n",
    "* inicijalizirali u varijablu **prvaDatoteka** novi file s imenom **prviPodatci.json**, i otvorili ga za pisanje (to je **'w'**).\n",
    "* u varijablu **sadrzaj** pohranili string (koji je nastao iz validnog JSON-a odnosno Python rječnika-- to je dio između '...')\n",
    "* u **prvaDatoteka** smo upisali **sadrzaj**\n",
    "* zatvorili smo file **prvaDatoteka**\n",
    "\n",
    "Sada možemo učitati **prviPodatci.json** da vidimo da smo dobro napravili sve (napomena: ovi svi fileovi moraju biti u istom direktoriju kao i ovaj notebook. Ako se želi neki drugi direktorij, mora se specificirati putanja, ali tu pripazite oko specifikacije Windows/Linux puteva)"
   ]
  },
  {
   "cell_type": "code",
   "execution_count": null,
   "metadata": {},
   "outputs": [],
   "source": [
    "otvoreniFile=open(\"prviPodatci.json\",\"r\")\n",
    "sadrzajFilea=otvoreniFile.readlines()\n",
    "print(sadrzajFilea)"
   ]
  },
  {
   "cell_type": "markdown",
   "metadata": {},
   "source": [
    "Uočimo da smo dobili ne samo početni JSON, nego listu koja sadrži taj JSON ali kao string. Lista je nastala zato što smo koristili metodu **readlines** koja svaki redak u fileu pročita kao string i onda te stringove puni u listu. Ovo je inače vrlo stabilna i korisna metoda, ali nam ovdje uzrokuje komplikacije koje ćemo morati ručno izbjeći (naš file ima samo jednu liniju, što nije uobičajeno, a ta linija je JSON kojeg želimo prepoznati kao dictionary, što takoder nije prečesto)"
   ]
  },
  {
   "cell_type": "code",
   "execution_count": null,
   "metadata": {},
   "outputs": [],
   "source": [
    "otvoreniFile=open(\"prviPodatci.json\",\"r\")\n",
    "sadrzajFilea=otvoreniFile.readlines()\n",
    "print(eval(sadrzajFilea[0]))"
   ]
  },
  {
   "cell_type": "markdown",
   "metadata": {},
   "source": [
    "Uočimo da smo za čitanje koristili **\"r\"** prilikom otvaranja. Sada ćemo napraviti nešto složenije. Želimo za početak naći najvišlju osobu među podatcima koje imamo:"
   ]
  },
  {
   "cell_type": "code",
   "execution_count": null,
   "metadata": {},
   "outputs": [],
   "source": [
    "#definicija funkcije koja bira maksimum po visini, a vraca ime (a ne visinu) te osobe (odnosno tog clana JSONa)\n",
    "def najvislji(pod):\n",
    "    visina=[x[\"visina\"] for x in pod]\n",
    "    ime=[x[\"ime\"] for x in pod]\n",
    "    clan=max(visina)\n",
    "    \n",
    "    lokacija=visina.index(clan) \n",
    "    \n",
    "    return ime[lokacija]\n",
    "\n",
    "#otvaranje filea\n",
    "otvoreniFile=open(\"prviPodatci.json\",\"r\")\n",
    "sadrzajFilea=otvoreniFile.readlines()\n",
    "podatci=eval(sadrzajFilea[0])\n",
    "\n",
    "najvisljaOsoba=najvislji(podatci)\n",
    " \n",
    "print(najvisljaOsoba)"
   ]
  },
  {
   "cell_type": "markdown",
   "metadata": {},
   "source": [
    "Sada si uzimamo novi zadatak, i želimo stvoriti novi file sličan početnom, ali sa visinama u inchima (1 inch = 2.5 cm):"
   ]
  },
  {
   "cell_type": "code",
   "execution_count": null,
   "metadata": {},
   "outputs": [],
   "source": [
    "#---------GLOBALNE VARIJABLE-----------\n",
    "inch=2.5\n",
    "#--------------------------------------\n",
    "\n",
    "#Otvaranje prvog filea\n",
    "fh=open(\"prviPodatci.json\",\"r\")\n",
    "sadrzaj=fh.readlines()\n",
    "fh.close()\n",
    "sadrzaj1=eval(sadrzaj[0])\n",
    "\n",
    "#Parsing, transformacija u inche i ponovno sastavljanje novog JSONa\n",
    "rezultat=[]\n",
    "for i in sadrzaj1:\n",
    "    staraVis=i[\"visina\"]#Ovdje se u varijablu staraVis ucitava vrijednost uz kljuc \"visina\" pojedinog clana i iz pocetnog JSONa\n",
    "    novaVis=staraVis/inch\n",
    "    i[\"visina\"]=novaVis#Ovdje se uz kljuc \"visina\" u clan i stavlja vrijednost koja je pohranjena u varijablu novaVis\n",
    "    rezultat.append(i)    \n",
    "\n",
    "#zapisivanje novog JSONa u novi file    \n",
    "finrez=[str(rezultat)]\n",
    "fh=open(\"noviPodatci.json\",\"w\")\n",
    "fh.writelines(finrez)\n",
    "fh.close()"
   ]
  },
  {
   "cell_type": "markdown",
   "metadata": {},
   "source": [
    "Sada trebamo prekontrolirati je li file **noviPodatci.json** dobro napravljen, pa cemo ga ucitati i isprintati:"
   ]
  },
  {
   "cell_type": "code",
   "execution_count": null,
   "metadata": {},
   "outputs": [],
   "source": [
    "otvoreniFile=open(\"noviPodatci.json\",\"r\")\n",
    "sadrzajFilea=otvoreniFile.readlines()\n",
    "print(eval(sadrzajFilea[0]))"
   ]
  }
 ],
 "metadata": {
  "kernelspec": {
   "display_name": "Python 3 (ipykernel)",
   "language": "python",
   "name": "python3"
  },
  "language_info": {
   "codemirror_mode": {
    "name": "ipython",
    "version": 3
   },
   "file_extension": ".py",
   "mimetype": "text/x-python",
   "name": "python",
   "nbconvert_exporter": "python",
   "pygments_lexer": "ipython3",
   "version": "3.9.13"
  }
 },
 "nbformat": 4,
 "nbformat_minor": 2
}
