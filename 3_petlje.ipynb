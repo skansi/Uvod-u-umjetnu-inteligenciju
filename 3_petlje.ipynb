{
 "cells": [
  {
   "cell_type": "markdown",
   "metadata": {},
   "source": [
    "<img src=\"hs.png\" width=\"200\">"
   ]
  },
  {
   "cell_type": "markdown",
   "metadata": {},
   "source": [
    "# Osnove Pythona (3 od 3)\n",
    "\n",
    "U ovom ćemo Notebooku istražiti petlje. Ali za zagrijavanje prvo ćemo pokazati kako se koriste vanjski moduli koji se moraju importati. Neki vanjski moduli su već tu zajedno s Pythonom (poput **random**), neki su instalirani zajedno s Anacondom, neke moramo instalirati s naredbom **pip3 install [[ime modula]]** (ovo se upisuje u Command Line odnosno Terminal, a za Python 2 ide **pip** umjesto **pip3**), a neke moramo instalirati s GitHuba, što je najkompleksnije. Unutar osnovnog Pythona ima relativno malo modula, ali već u Anacondi ima velika većina onoga što će vam trebati, a kada zatreba nesto drugo, već ćete biti dovoljno vjesti da sami nađete rješenje (odnosno da pokrenete **pip3 install**). Krenimo s importiranjem **random** modula za generiranje nasumičnih brojeva."
   ]
  },
  {
   "cell_type": "code",
   "execution_count": null,
   "metadata": {},
   "outputs": [],
   "source": [
    "from random import randint as rb\n",
    "lista_br = []\n",
    "lista_br.append(rb(0,4))\n",
    "lista_br.append(rb(0,4))\n",
    "lista_br.append(rb(0,4))\n",
    "lista_br.append(rb(0,4))\n",
    "lista_br.append(rb(0,4))\n",
    "print(lista_br)"
   ]
  },
  {
   "cell_type": "markdown",
   "metadata": {},
   "source": [
    "Uočimo što se događa u prvom retku: iz modula **random** učitavamo funkciju **radint** i preimenujemo ju u **rb**, s kojim ćemo referirati na ovu funkciju.\n",
    "\n",
    "## For-petlje\n",
    "\n",
    "Primjetimo da bolje nego da ovako stvaramo pet nasumičnih brojeva, to bismo trebali moći nekako automatizirati. Tome služi **for-petlja**. Ako želimo napraviti isto to, koristimo blok:"
   ]
  },
  {
   "cell_type": "code",
   "execution_count": null,
   "metadata": {},
   "outputs": [],
   "source": [
    "from random import randint as rb\n",
    "lista_br = []\n",
    "for x in range(0,5):\n",
    "    lista_br.append(rb(0,4))\n",
    "print(lista_br)"
   ]
  },
  {
   "cell_type": "markdown",
   "metadata": {},
   "source": [
    "Osim što je ljepše i fleksibilnije, ovo nam pruža veću kontrolu nad time što se događa. Kod je relativno intuitivan.\n",
    "\n",
    "Treća linija kaže: idi redom po svim x-evima od 0 do 5 (to je raspon, odnosno eng. *range*), i za svaki od njih napravi ono što ide iza dvotočke u uvučenom dijelu koda.\n",
    "\n",
    "Zadnja linija više nije uvučena i ona se samo jednom izvršava. Pogledajmo što se dogodi ako je ona uvučena:"
   ]
  },
  {
   "cell_type": "code",
   "execution_count": null,
   "metadata": {},
   "outputs": [],
   "source": [
    "from random import randint as rb\n",
    "lista_br = []\n",
    "for x in range(0,5):\n",
    "    lista_br.append(rb(0,4))\n",
    "    print(lista_br)"
   ]
  },
  {
   "cell_type": "markdown",
   "metadata": {},
   "source": [
    "Varijabla x je po malo neobična jer djeluje da stoji tu bez razloga. Ona je tzv. *dummy varijabla*, no samo u nekim slučajevima poput ovog je \"suvišna\". Modificirajmo naš program. Zamislimo da trebamo odglumiti prvu rundu neke igre gdje svi igrači bacaju D6 kocku i pamtimo njihove rezultate. To možemo napraviti ovako:"
   ]
  },
  {
   "cell_type": "code",
   "execution_count": null,
   "metadata": {},
   "outputs": [],
   "source": [
    "from random import randint as rb\n",
    "rez = []\n",
    "lista_igr = [\"Marko\",\"Ivana\", \"Sara\", \"Josip\", \"Toni\"]\n",
    "for x in lista_igr:\n",
    "    clan = (x,rb(1,6)) #ovdje smo mogli umjesto parova stvoriti liste da smo stavili [ ]\n",
    "    rez.append(clan)\n",
    "print(rez)"
   ]
  },
  {
   "cell_type": "markdown",
   "metadata": {},
   "source": [
    "Uočimo da sada x igra ulogu i da se svako ime u listi sad zapisuje zajedno s brojem koji je ta osoba dobila. Uočimo isto tako kako smo napisali **x in lista_igr**. Ovo je jedna velika prednost Pythona što na ovako prirodan način možemo zapisati **iteraciju** po listi. Lista i druge stvari po kojima se može iterirati se naziva eng. **iterable**. Ovo je važan naziv u Pythonu, i puno errora se dogodi kada se pokušava iterirati po nečemu što nije **iterable**.\n",
    "\n",
    "Pogledajmo kako možemo kod drugačije napraviti. Ovaj pristup se temelji na tome da napravimo dvije jednako dugačke liste, i onda s naredbom **zip(L1,L2)** napravimo listu parova takvu da je prvi član proizvedene zip-liste par prvog člana L1 i prvog člana L2, drugi član je par drugog člana L1 i drugog člana L2, itd. \n",
    "\n",
    "Zip-lista nije po tipu lista u Pythonu 3 pa je *castamo* u listu s **list()**."
   ]
  },
  {
   "cell_type": "code",
   "execution_count": null,
   "metadata": {},
   "outputs": [],
   "source": [
    "from random import randint as rb\n",
    "lista_br = []\n",
    "lista_igr = [\"Marko\",\"Ivana\", \"Sara\", \"Josip\", \"Toni\"]\n",
    "for x in lista_igr:    \n",
    "    lista_br.append(rb(1,6))\n",
    "rez = list(zip(lista_igr, lista_br))\n",
    "print(rez)"
   ]
  },
  {
   "cell_type": "markdown",
   "metadata": {},
   "source": [
    "Za kraj, upakirajmo ovo u malo općenitiju funkciju, koja će primiti kao **input** tip kocke (do sada je bilo D6 fiksno, i onda smo znali da je broj stranica 6), broj igrača (koje će imenovati s \"Igrac 1\", \"Igrac 2\", itd.), a vraćat će kao **output** listu igrača i brojeva koji su dobili na kocki:"
   ]
  },
  {
   "cell_type": "code",
   "execution_count": null,
   "metadata": {},
   "outputs": [],
   "source": [
    "from random import randint as rb\n",
    "\n",
    "def prva_runda(tip_kocke,broj_igraca):\n",
    "    #prvo iz tipa kocke izvadimo broj stranica:\n",
    "    broj_str = int(tip_kocke[1:])\n",
    "    #zatim kreiramo imena igraca:\n",
    "    lista_igr = []\n",
    "    for i in range(0,broj_igraca):\n",
    "        lista_igr.append(\"Igrac \" + str(i+1))\n",
    "    #na kraju svakom igracu dodamo broj koji je dobio\n",
    "    rez = []\n",
    "    for x in lista_igr:\n",
    "        clan = (x,rb(1,broj_str))\n",
    "        rez.append(clan)\n",
    "    return rez\n",
    "\n",
    "#testni podatci\n",
    "test_br_ig = 4\n",
    "test_tip_k = \"D12\"\n",
    "\n",
    "rezultat = prva_runda(test_tip_k,test_br_ig)\n",
    "rezultat"
   ]
  },
  {
   "cell_type": "markdown",
   "metadata": {},
   "source": [
    "Ovaj program bi trebao biti razumljiv. Proučite ga redom redak po redak i dajte si barem 10 minuta za proučavanje koda.\n",
    "\n",
    "Pogledajmo sada kako sortirati ovu listu tako da prvo krenemo s najvećim brojem:"
   ]
  },
  {
   "cell_type": "code",
   "execution_count": null,
   "metadata": {},
   "outputs": [],
   "source": [
    "import operator\n",
    "sorted(rezultat, key=operator.itemgetter(1), reverse=True)"
   ]
  },
  {
   "cell_type": "markdown",
   "metadata": {},
   "source": [
    "Uočimo da za sortiranje nam treba modul **operator**, i uočimo ugrađenu funkciju **sorted()**. Proučimo ju detaljnije:"
   ]
  },
  {
   "cell_type": "code",
   "execution_count": null,
   "metadata": {},
   "outputs": [],
   "source": [
    "lista = [5,3,4,1,2,0]\n",
    "print(sorted(lista))\n",
    "print(sorted(lista, reverse=True))"
   ]
  },
  {
   "cell_type": "markdown",
   "metadata": {},
   "source": [
    "Dodatni parametar **key** je bilo koja funkcija koja niže članove, pa njenom specifikacijom se kaže funkciji **sorted()** da sortira članove liste upravo na način na koji ona specificira."
   ]
  },
  {
   "cell_type": "markdown",
   "metadata": {},
   "source": [
    "## Komprehenzija listi\n",
    "\n",
    "Postoji jedna zanimljiva metoda u Pythonu koja se zove **komprehenzija listi**. U Matematičko-logičkom smislu, komprehenzija označava postupak stvaranje podskupa iz nekog drugog skupa temeljem nekog svojstva. Na primjer, principom komprehenzije stvaramo skup svih parnih brojeva. Uočimo da komprehenzija uzima svojstvo i neki skup, pa onda stvara podskup tog skupa koji se sastoji od objekata koji zadovoljavaju to svojstvo. Pogledajmo kako to izgleda u Pythonu: "
   ]
  },
  {
   "cell_type": "code",
   "execution_count": null,
   "metadata": {},
   "outputs": [],
   "source": [
    "brojevi = [0,1,2,3,4,5,6,7,8,9]\n",
    "parni = [x for x in brojevi if x%2==0]\n",
    "print(parni)"
   ]
  },
  {
   "cell_type": "markdown",
   "metadata": {},
   "source": [
    "Komprehenzija liste (stvaranje nove liste **parni** iz elemenata stare liste **brojevi**) kaže: \"stvori listu **x**-eva, za sve **x**-eve iz **brojevi** za koje vrijedi **x%2==0**\" (odnosno, za koje ostatak dijeljenja sa 2 je 0, što je definicija parnog broja). Uočite da komprehenziju listi možemo koristiti na inventivne načine:"
   ]
  },
  {
   "cell_type": "code",
   "execution_count": null,
   "metadata": {},
   "outputs": [],
   "source": [
    "brojevi = [0,1,2,3,4,5,6,7,8,9]\n",
    "parni_f = [float(x) for x in brojevi if x%2==0]\n",
    "parni_fz = [(float(x)+0.3) for x in brojevi if x%2==0]\n",
    "print(parni_f)\n",
    "print(parni_fz)"
   ]
  },
  {
   "cell_type": "markdown",
   "metadata": {},
   "source": [
    "Ili pak mozemo čak i nešto ovakvo napraviti s komprehenzijom da bismo dobili listu igrača koji su dobili više od 4 na kocki:"
   ]
  },
  {
   "cell_type": "code",
   "execution_count": null,
   "metadata": {},
   "outputs": [],
   "source": [
    "lista = [['Igrac 1', 1], ['Igrac 2', 5], ['Igrac 3', 2], ['Igrac 4', 6]]\n",
    "igr_s_dvoznamenkastim = [x[0] for x in lista if x[1]>4]\n",
    "print(igr_s_dvoznamenkastim)"
   ]
  },
  {
   "cell_type": "markdown",
   "metadata": {},
   "source": [
    "Vratimo se na stvaranje liste nasumičnih brojeva:"
   ]
  },
  {
   "cell_type": "code",
   "execution_count": null,
   "metadata": {},
   "outputs": [],
   "source": [
    "from random import randint as rb\n",
    "lista_br = []\n",
    "for x in range(0,5):\n",
    "    lista_br.append(rb(0,4))\n",
    "print(lista_br)"
   ]
  },
  {
   "cell_type": "markdown",
   "metadata": {},
   "source": [
    "Ovo nam možda nije ono što želimo, jer se neki brojevi ponavljaju. Ako želimo napraviti nasumično izmješanu listu brojeva od 0 do 4, onda to radimo sa **shuffle**:"
   ]
  },
  {
   "cell_type": "code",
   "execution_count": null,
   "metadata": {},
   "outputs": [],
   "source": [
    "from random import shuffle\n",
    "lista = [i for i in range(5)]\n",
    "shuffle(lista)\n",
    "print(lista)"
   ]
  },
  {
   "cell_type": "markdown",
   "metadata": {},
   "source": [
    "## While-petlja\n",
    "\n",
    "**For-petlja** funkcionira na sljedeći način:"
   ]
  },
  {
   "cell_type": "code",
   "execution_count": null,
   "metadata": {},
   "outputs": [],
   "source": [
    "iterable = [0,1,2]\n",
    "for i in iterable:\n",
    "    print(i)"
   ]
  },
  {
   "cell_type": "markdown",
   "metadata": {},
   "source": [
    "Odnosno, **for-petlja** ide kroz svaki član **iterable** i radi nešto što se specificira za svaki korak u petlji. **While-petlja** je slicna, samo sto se iterira dok neki izraz vrijedi:"
   ]
  },
  {
   "cell_type": "code",
   "execution_count": null,
   "metadata": {},
   "outputs": [],
   "source": [
    "brojac = 0\n",
    "while brojac<5:\n",
    "    print(brojac)\n",
    "    brojac = brojac + 1"
   ]
  },
  {
   "cell_type": "markdown",
   "metadata": {},
   "source": [
    "Uočimo da imamo brojač koji služi za to da uvjet može postati neistinit u jednom trenutku. Također, primjetite što se dogodi ako brojač povećamo prerano:"
   ]
  },
  {
   "cell_type": "code",
   "execution_count": null,
   "metadata": {},
   "outputs": [],
   "source": [
    "brojac = 0\n",
    "while brojac<5:\n",
    "    brojac = brojac + 1\n",
    "    print(brojac)"
   ]
  },
  {
   "cell_type": "markdown",
   "metadata": {},
   "source": [
    "Kako **while** prihvaća izraze, možemo staviti **while True**, no ova petlja se nikada neće završiti. Moguće ju je razbiti s **break**:"
   ]
  },
  {
   "cell_type": "code",
   "execution_count": null,
   "metadata": {},
   "outputs": [],
   "source": [
    "c = 0\n",
    "while True:\n",
    "    print(c)\n",
    "    c = c+1\n",
    "    break"
   ]
  },
  {
   "cell_type": "markdown",
   "metadata": {},
   "source": [
    "## Tijek funkcije\n",
    "\n",
    "**while True** se može još razbiti i manipulirajući tijek funkcije. Tijek funkcije opisuje gdje se javlja **return** u definiranim funkcijama. Pogledajmo sljedeća dva primjera:"
   ]
  },
  {
   "cell_type": "code",
   "execution_count": null,
   "metadata": {},
   "outputs": [],
   "source": [
    "def fja1(n):\n",
    "    for i in range(0,n):\n",
    "        print(i)\n",
    "    return\n",
    "\n",
    "fja1(5)"
   ]
  },
  {
   "cell_type": "code",
   "execution_count": null,
   "metadata": {},
   "outputs": [],
   "source": [
    "def fja2(n):\n",
    "    for i in range(0,n):\n",
    "        print(i)\n",
    "        return\n",
    "\n",
    "fja2(5)"
   ]
  }
 ],
 "metadata": {
  "anaconda-cloud": {},
  "kernelspec": {
   "display_name": "Python 3 (ipykernel)",
   "language": "python",
   "name": "python3"
  },
  "language_info": {
   "codemirror_mode": {
    "name": "ipython",
    "version": 3
   },
   "file_extension": ".py",
   "mimetype": "text/x-python",
   "name": "python",
   "nbconvert_exporter": "python",
   "pygments_lexer": "ipython3",
   "version": "3.9.13"
  }
 },
 "nbformat": 4,
 "nbformat_minor": 1
}
