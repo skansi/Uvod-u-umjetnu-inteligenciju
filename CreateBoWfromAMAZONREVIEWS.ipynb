{
 "cells": [
  {
   "cell_type": "code",
   "execution_count": 110,
   "id": "6e6a22b2",
   "metadata": {},
   "outputs": [],
   "source": [
    "#Amazon review label 2 is positive, label 1 is negative\n",
    "import pandas as pd\n",
    "ignore_top_N_stopwords= 2\n",
    "ignore_word_with_less_than_M_occurences = 2\n",
    "\n",
    "train = pd.read_csv(\"small_train.csv\",header=None, delimiter=',',names=\n",
    "                   [\"TARGET\",\"TITLE\",\"REVIEW\"])\n",
    "test = pd.read_csv(\"small_test.csv\",header=None, delimiter=',',names=\n",
    "                   [\"TARGET\",\"TITLE\",\"REVIEW\"])\n",
    "train_with_no_targets = train[[\"REVIEW\"]]\n",
    "test_with_no_targets = test[[\"REVIEW\"]]\n",
    "train_targets = train[[\"TARGET\"]]\n",
    "test_targets = test[[\"TARGET\"]]\n",
    "#test.head()\n",
    "dfs = [train_with_no_targets, test_with_no_targets]\n",
    "combined = pd.concat(dfs)\n",
    "#combined.head(10)\n",
    "combined_as_list = [item for sublist in combined.values.tolist() for item in sublist]\n",
    "combined_as_list_of_lists = [x.split(\" \") for x in combined_as_list]\n",
    "LoW = [item.lower() for sublist in combined_as_list_of_lists for item in sublist]\n",
    "SoW = set(LoW)\n",
    "#print(len(combined_as_list_of_lists))\n",
    "#print(len(train_targets.values.tolist()))\n",
    "#print(len(test_targets.values.tolist()))\n"
   ]
  },
  {
   "cell_type": "code",
   "execution_count": 111,
   "id": "5cf0011b",
   "metadata": {},
   "outputs": [],
   "source": [
    "##create dict/list of lists with word count, trimmed stopwords and rare words\n",
    "FinList = []\n",
    "for word in SoW:\n",
    "\tcounter = 0\n",
    "\tfor word1 in LoW:\n",
    "\t\tif word1 == word:\n",
    "\t\t\tcounter = counter + 1\n",
    "\tFinList.append([counter, word])\n",
    "FinList.sort(reverse=True)\n",
    "FinFinList = FinList[ignore_top_N_stopwords:]\n",
    "FINAL = [x for x in FinFinList if x[0]>ignore_word_with_less_than_M_occurences]\n",
    "#FINAL"
   ]
  },
  {
   "cell_type": "code",
   "execution_count": 112,
   "id": "309cb46b",
   "metadata": {},
   "outputs": [],
   "source": [
    "FINAL2 = [x[1] for x in FINAL]\n",
    "FINAL2.insert(0,\"TARGET\")\n",
    "FINAL3 = [x[1] for x in FINAL] #final3 is the same as final2 but does not have TARGET\n",
    "BoW_CSV = [FINAL2] # first row of the BoWCSV\n",
    "#len(FINAL3)"
   ]
  },
  {
   "cell_type": "code",
   "execution_count": 115,
   "id": "9805b56f",
   "metadata": {},
   "outputs": [],
   "source": [
    "#print(combined_as_list_of_lists[:2])\n",
    "CLL=[]\n",
    "for fragment in combined_as_list_of_lists:\n",
    "    newFragment=[]\n",
    "    for word in fragment:\n",
    "        if word.lower() in FINAL3:\n",
    "            newWord=word.lower()\n",
    "            newFragment.append(newWord)\n",
    "    CLL.append(newFragment)\n",
    "    \n",
    "#print(CLL[:2])\n",
    "tr_lista=[]            \n",
    "for i in range(len(train_targets)):\n",
    "    new_row = train_targets.values.tolist()[i]\n",
    "    for WORD in FINAL3:\n",
    "        if WORD in CLL[i]:\n",
    "            new_row.append(1)\n",
    "            \n",
    "        else:\n",
    "            new_row.append(0)\n",
    "    assert len(new_row)==len(FINAL2)\n",
    "    #print(new_row)    \n",
    "    tr_lista.append(new_row)\n",
    "tr_headers = FINAL2\n",
    "tr_BoW = pd.DataFrame(tr_lista, columns=tr_headers)\n",
    "\n",
    "\n",
    "\n",
    "te_lista=[]            \n",
    "for i in range(len(test_targets)):\n",
    "    new_row = test_targets.values.tolist()[i]\n",
    "    for WORD in FINAL3:\n",
    "        if WORD in CLL[i+len(train_targets)]:\n",
    "            new_row.append(1)\n",
    "            \n",
    "        else:\n",
    "            new_row.append(0)\n",
    "    assert len(new_row)==len(FINAL2)\n",
    "    #print(new_row)    \n",
    "    te_lista.append(new_row)\n",
    "te_headers = FINAL2\n",
    "te_BoW = pd.DataFrame(te_lista, columns=te_headers)\n",
    "#print(len(te_headers))\n",
    "\n",
    "te_BoW\n",
    "\n",
    "#tr_BoW\n",
    "te_BoW.to_csv(\"test_BoW.csv\",index=False)\n",
    "tr_BoW.to_csv(\"train_BoW.csv\",index=False)"
   ]
  },
  {
   "cell_type": "code",
   "execution_count": null,
   "id": "2e69fc95",
   "metadata": {},
   "outputs": [],
   "source": []
  },
  {
   "cell_type": "code",
   "execution_count": null,
   "id": "5ee0908d",
   "metadata": {},
   "outputs": [],
   "source": []
  }
 ],
 "metadata": {
  "kernelspec": {
   "display_name": "Python 3 (ipykernel)",
   "language": "python",
   "name": "python3"
  },
  "language_info": {
   "codemirror_mode": {
    "name": "ipython",
    "version": 3
   },
   "file_extension": ".py",
   "mimetype": "text/x-python",
   "name": "python",
   "nbconvert_exporter": "python",
   "pygments_lexer": "ipython3",
   "version": "3.9.13"
  }
 },
 "nbformat": 4,
 "nbformat_minor": 5
}
