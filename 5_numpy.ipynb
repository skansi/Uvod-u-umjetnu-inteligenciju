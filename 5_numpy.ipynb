{
 "cells": [
  {
   "cell_type": "markdown",
   "id": "2ffd6cc3",
   "metadata": {},
   "source": [
    "<img src=\"hs.png\" width=\"200\">"
   ]
  },
  {
   "cell_type": "markdown",
   "id": "a422ede3",
   "metadata": {},
   "source": [
    "# Numpy, vektori i matrice\n",
    "\n",
    "U ovomo se notebooku prikazuju osnove operacije nad vektorima i matricama, i kako se one mogu realizirati u Pythonu. Paket koji se koristi je Numpy, i počinjemo tako da ga učitamo i to kao *np*, tako da ne moramo uvijek pisati *numpy*"
   ]
  },
  {
   "cell_type": "code",
   "execution_count": null,
   "id": "6c73e893",
   "metadata": {},
   "outputs": [],
   "source": [
    "import numpy as np"
   ]
  },
  {
   "cell_type": "markdown",
   "id": "2d959ed9",
   "metadata": {},
   "source": [
    "## Vektori\n",
    "Prvo ćemo prikazati vektore. Vektore ste već upoznali u svojem obrazovanju, ali su tamo imali drugačiji naziv: uređene $n$-torke. Ono što ste pak u srednjoj školi nazivali vektorima (tzv. \"usmjerene duljine\"), najbolje zaboravite. Pravi matematimatički vektori se mogu prikazati na taj način ali transformacije potrebne za to izlaze izvan gabarita ovog kolegija i neće vam vjerojatno nikad trebati za umjetnu inteligenciju. Ako će vam trebati, kada ćete trebati -- naučit ćete.\n",
    "\n",
    "Za sad vektor je uređena $n$-torka. Veličina $n$ definira *dimenzionalnost* vektora. Tako je na primjer uređeni par *dvodimenzionalni* vektor, a uređena desetorka je *desetodimenzionalni vektor*. Vektore označavamo s boldanim malim slovima, ili s punim raspisom, na primjer: $$\\mathbf{a} = (a_1, a_2, a_3)$$ je trodimenzionalni vektor, skraćeno nazvan $\\mathbf{a}$, s komponentama $a_1$, $a_2$, $a_3$. \n",
    "\n",
    "U Pythonu vektore možemo stvoriti iz liste:"
   ]
  },
  {
   "cell_type": "code",
   "execution_count": null,
   "id": "f1d83b26",
   "metadata": {},
   "outputs": [],
   "source": [
    "lista_a = [1,2,3]\n",
    "lista_b = [9,8,7]\n",
    "\n",
    "a = np.array(lista_a)\n",
    "b = np.array(lista_b)\n",
    "\n",
    "a"
   ]
  },
  {
   "cell_type": "markdown",
   "id": "c8ca707d",
   "metadata": {},
   "source": [
    "Ako nas zanima dimenzionalnost, onda koristimo sljedeći kod"
   ]
  },
  {
   "cell_type": "code",
   "execution_count": null,
   "id": "0dd2b7d9",
   "metadata": {},
   "outputs": [],
   "source": [
    "a.shape"
   ]
  },
  {
   "cell_type": "markdown",
   "id": "25e9b766",
   "metadata": {},
   "source": [
    "Ako želimo stvoriti vektor dimenzije 5 sa svim nulama, koristimo"
   ]
  },
  {
   "cell_type": "code",
   "execution_count": null,
   "id": "6c2011ba",
   "metadata": {},
   "outputs": [],
   "source": [
    "nule = np.zeros(5)\n",
    "nule"
   ]
  },
  {
   "cell_type": "markdown",
   "id": "0127ac94",
   "metadata": {},
   "source": [
    "A ako želimo napraviti vektor s nasumičnim vrijednostima koristimo"
   ]
  },
  {
   "cell_type": "code",
   "execution_count": null,
   "id": "28e76380",
   "metadata": {},
   "outputs": [],
   "source": [
    "rand = np.random.rand(5)\n",
    "rand"
   ]
  },
  {
   "cell_type": "markdown",
   "id": "6f12cb48",
   "metadata": {},
   "source": [
    "Premda je uobičajeno vektore označavati s boldanim malim slovima, naći ćete i druge oznake. Bez obzira na oznaku svi vektori dozvoljavaju dvije osnove operacije na njima: zbrajanje vektora i skalarno množenje.\n",
    "Vektori se zbrajaju tako da moraju imati istu dimenzionalnost i onda se zbroje komponente, odnosno ako $\\mathbf{a}=(a_1, a_2, a_3)$ i $\\mathbf{b}=(b_1, b_2, b_3)$, onda $$\\mathbf{a} + \\mathbf{b} = (a_1+b_1, a_2+b_2, a_3+b_3)$$\n",
    "\n",
    "Tako da ako npr. $\\mathbf{a}=(1, 2, 3)$ i $\\mathbf{b}=(4, 5, 6)$, onda\n",
    "\n",
    "$$\\mathbf{a} + \\mathbf{b} = (1+4, 2+5, 3+6) = (5,7,9)$$\n",
    "\n",
    "Ovo s Numpyjem možemo napraviti na sljedeći način:"
   ]
  },
  {
   "cell_type": "code",
   "execution_count": null,
   "id": "f4f33ac4",
   "metadata": {},
   "outputs": [],
   "source": [
    "lista_a = [1,2,3]\n",
    "lista_b = [4,5,6]\n",
    "a = np.array(lista_a)\n",
    "b = np.array(lista_b)\n",
    "\n",
    "c = np.add(a,b)\n",
    "\n",
    "c"
   ]
  },
  {
   "cell_type": "markdown",
   "id": "400fa81c",
   "metadata": {},
   "source": [
    "Druga osnovna operacija nad vektorima je skalarni produkt. Skalar je naziv za običan broj, tako da je skalarni produkt u stvari samo množenje vektora s nekim brojem. Ako je $\\mathbf{a}=(1,3,5)$ i a skalar $s=2$, onda $$s \\cdot \\mathbf{a} = \\mathbf{a} \\cdot s = (1,3,5) \\cdot 2 = (2,6,10)$$\n",
    "\n",
    "Uočimo da kod zbrajanja vektora, u operaciju ulaze dva vektora, i rezultat je također vektor, dok kod skalarnog produkta u operaciju ulaze broj (skalar) i vektor, a rezultat operacije je vektor. U Numpyju skalarni produkt dobijemo na sljedeći način:"
   ]
  },
  {
   "cell_type": "code",
   "execution_count": null,
   "id": "9075208b",
   "metadata": {},
   "outputs": [],
   "source": [
    "lista_a = [1,3,5]\n",
    "a = np.array(lista_a)\n",
    "s = 2\n",
    "c = s*a\n",
    "c"
   ]
  },
  {
   "cell_type": "markdown",
   "id": "d5d86835",
   "metadata": {},
   "source": [
    "Zadnja operacija s vektorima je dot produkt. Oba vektora, kao i kod zbrajanja trebaju imati jednaku dimenzionalnost. Dot produkt vektora $\\mathbf{a}=(a_1, a_2, a_3)$ i $\\mathbf{b}=(b_1, b_2, b_3)$, onda $$\\mathbf{a} \\cdot \\mathbf{b} = \\sum_{i=1}^3 (a_i\\cdot b_i) = a_1\\cdot b_1 + a_2\\cdot b_2 + a_3\\cdot b_3$$\n",
    "\n",
    "Tako da ako npr. $\\mathbf{a}=(1, 2, 3)$ i $\\mathbf{b}=(4, 5, 6)$, onda\n",
    "\n",
    "$$\\mathbf{a} \\cdot \\mathbf{b} = 1\\cdot 4 + 2\\cdot 5 + 3 \\cdot 6 = 4+10+18 = 32$$\n",
    "\n",
    "Napomenimo da ovdje u operaciju ulaze dva vektora, ali rezultat je jedan jedini broj (skalar). Ovo s Numpyjem mozemo napraviti na sljedeci nacin:"
   ]
  },
  {
   "cell_type": "code",
   "execution_count": null,
   "id": "990e3110",
   "metadata": {},
   "outputs": [],
   "source": [
    "lista_a = [1,2,3]\n",
    "lista_b = [4,5,6]\n",
    "a = np.array(lista_a)\n",
    "b = np.array(lista_b)\n",
    "\n",
    "c = np.dot(a,b)\n",
    "\n",
    "c"
   ]
  },
  {
   "cell_type": "markdown",
   "id": "ce7e1408",
   "metadata": {},
   "source": [
    "## Matrice\n",
    "\n",
    "Matrice su generalizacija vektora na dvije dimenzije. Matrica izgleda ovako:\n",
    "\n",
    "$$A= \\begin{bmatrix}\n",
    "1 & 2 & 3\\\\\n",
    "4 & 5 & 6\n",
    "\\end{bmatrix} $$\n",
    "\n",
    "Jedno od temeljnih svojstava matrice je njena dimenzionalnost, koja kaže koliko ima redaka i koliko stupaca. Dimenzionalnost gornje matrice je $2\\times 3$. Pripazite da uvijek prvo pišete broj redaka, a onda broj stupaca. \n",
    "\n",
    "Pojedini brojevi u matrici se nazivaju elementi, i hvataju se uz pomoć indeksa. Tako primjerice ako želimo uhvatiti 5 iz gornje matrice, to radimo oznakom $a_{2,2}$, a ako želimo 6 onda je to $a_{2,3}$\n",
    "\n",
    "Ako želimo napraviti matricu u Pythonu, imamo nekoliko opcija. Najjednostavnije je napraviti matricu iz liste lista:"
   ]
  },
  {
   "cell_type": "code",
   "execution_count": null,
   "id": "b64a6732",
   "metadata": {},
   "outputs": [],
   "source": [
    "lista_a = [[1,2,3],[4,5,6]]\n",
    "a = np.array(lista_a)\n",
    "a"
   ]
  },
  {
   "cell_type": "markdown",
   "id": "e0aa986c",
   "metadata": {},
   "source": [
    "Čime smo dobili matricu\n",
    "\n",
    "$$A= \\begin{bmatrix}\n",
    "1 & 2 & 3\\\\\n",
    "4 & 5 & 6\n",
    "\\end{bmatrix} $$\n",
    "\n",
    "Ako nas zanima koja je dimenzionalnost ili oblik matrice A iz prethodne ćelije, koristimo"
   ]
  },
  {
   "cell_type": "code",
   "execution_count": null,
   "id": "2f7021d4",
   "metadata": {},
   "outputs": [],
   "source": [
    "a.shape"
   ]
  },
  {
   "cell_type": "markdown",
   "id": "5d87425d",
   "metadata": {},
   "source": [
    "Također, matricu možemo inicijalizirati s nasumičnim vrijednostima direktno u Numpyju, ako mu kažemo koje dimenzije želimo. \n",
    "\n",
    "**random.rand** ima i druge neobvezatne parametre, poput na primjer distribucije iz koje se uzorkuje, pa ih slobodno samo proučite na StackOverflow."
   ]
  },
  {
   "cell_type": "code",
   "execution_count": null,
   "id": "48f1c4f8",
   "metadata": {},
   "outputs": [],
   "source": [
    "d = np.random.rand(3,2)\n",
    "d"
   ]
  },
  {
   "cell_type": "markdown",
   "id": "e0a1280c",
   "metadata": {},
   "source": [
    "Ako želimo \"izvrnuti\" matricu, tako da $m\\times n$ matrica postane $n\\times m$ na sustavan način, operacija koja to radi se zove *transpozicija*. Tako ako imamo matricu\n",
    "\n",
    "\n",
    "$$A= \\begin{bmatrix}\n",
    "1 & 2 & 3\\\\\n",
    "4 & 5 & 6\n",
    "\\end{bmatrix} $$\n",
    "\n",
    "Njena transpozicija je\n",
    "\n",
    "\n",
    "$$A^T= \\begin{bmatrix}\n",
    "1 & 4\\\\\n",
    "2 & 5\\\\\n",
    "3 & 6\n",
    "\\end{bmatrix} $$"
   ]
  },
  {
   "cell_type": "code",
   "execution_count": null,
   "id": "68640064",
   "metadata": {},
   "outputs": [],
   "source": [
    "a_T= np.transpose(a)\n",
    "a_T"
   ]
  },
  {
   "cell_type": "markdown",
   "id": "785cc12a",
   "metadata": {},
   "source": [
    "Ako želimo primjeniti funkciju na matricu, to je jednostavno primjena te funkcije na sve elemente matrice. Tako ako npr. imamo funkciju $f(x)=x^2$, i želimo je primjeniti na \n",
    "\n",
    "$$A= \\begin{bmatrix}\n",
    "1 & 2 & 3\\\\\n",
    "4 & 5 & 6\n",
    "\\end{bmatrix} $$\n",
    "\n",
    "Dobijemo\n",
    "\n",
    "$$f(A)= \\begin{bmatrix}\n",
    "f(1) & f(2) & f(3)\\\\\n",
    "f(4) & f(5) & f(6)\n",
    "\\end{bmatrix} = \\begin{bmatrix}\n",
    "1 & 4 & 9\\\\\n",
    "16 & 25 & 36\n",
    "\\end{bmatrix} $$\n",
    "\n",
    "Nama će u strojnom učenju biti bitna takozvana logistička ili sigmoidna funkcija, koja je definirana kao:\n",
    "\n",
    "$$\\sigma(x)=\\frac{1}{1+e^{-x}}$$\n",
    "\n",
    "Sada ćemo vidjeti kako tu funkciju primjeniti na matricu A:"
   ]
  },
  {
   "cell_type": "code",
   "execution_count": null,
   "id": "7fd899dd",
   "metadata": {},
   "outputs": [],
   "source": [
    "def sig_arr(x):\n",
    "    return 1 / (1 + np.exp(-x))\n",
    "\n",
    "print(a)\n",
    "print(sig_arr(a))"
   ]
  },
  {
   "cell_type": "markdown",
   "id": "56e95a28",
   "metadata": {},
   "source": [
    "Zadnja stvar koja nam je potrebna kod matrica je produkt matrica odnosno dot produkt. Da bi se dot produkt mogao izračunati dvije matrice moraju biti ulančane. Dvije matrice dimenzija $m\\times n$ i $i \\times j$ su ulančane ako i samo ako $n=i$. Tako su na primjer matrice dimenzija $2\\times 3$ i $3 \\times 4$ ulančane, ali matrice dimenzija $3\\times 4$ i $2 \\times 3$ nisu. Ulančanost kao svojstvo je asimentrično, što će dalje implicirati da dot produkt matrica nije komutativan.\n",
    "\n",
    "Ako imamo dvije ulančane matrice dimenzionalnosti $m\\times n$ i $n \\times k$, tada je dimenzionalnost njihovog dot produkta $m\\times k$. Time znamo koje će elemente konačna matrica imati.\n",
    "\n",
    "Ako koristimo oznake $A\\cdot B = C$, tada na elemente matrice $C$ možemo referirati kao $c_{i,j}$. Svaki $c_{i,j}$ računamo tako da uzmemo $i$-ti redak iz matrice $A$ (i pretvorimo ga u vektor), i $j$-ti stupac iz matrice $B$ (i pretvorimo ga u vektor) i onda napravimo dot produkt ta dva vektora.\n",
    "\n",
    "Svaki element matrice $C$ se računa zasebno što znači da se taj proces može paralelizirati. Python nam dot produkt dviju matrica vrlo brzo izračuna čak i za jako velike matrice.\n"
   ]
  },
  {
   "cell_type": "code",
   "execution_count": null,
   "id": "e98e6bdd",
   "metadata": {},
   "outputs": [],
   "source": [
    "lista_a = [[1,2,3],[4,5,6]]\n",
    "a = np.array(lista_a)\n",
    "\n",
    "lista_b = [[7,8],[9,10],[11,12]]\n",
    "b = np.array(lista_b)\n",
    "\n",
    "c = np.dot(a,b)\n",
    "c"
   ]
  },
  {
   "cell_type": "code",
   "execution_count": null,
   "id": "f8f99554",
   "metadata": {},
   "outputs": [],
   "source": [
    "#TODO:\n",
    "#csv to array and array to csv and pandas interactions\n",
    "#ravel\\reshape vector u matricu"
   ]
  }
 ],
 "metadata": {
  "kernelspec": {
   "display_name": "Python 3 (ipykernel)",
   "language": "python",
   "name": "python3"
  },
  "language_info": {
   "codemirror_mode": {
    "name": "ipython",
    "version": 3
   },
   "file_extension": ".py",
   "mimetype": "text/x-python",
   "name": "python",
   "nbconvert_exporter": "python",
   "pygments_lexer": "ipython3",
   "version": "3.9.13"
  }
 },
 "nbformat": 4,
 "nbformat_minor": 5
}
