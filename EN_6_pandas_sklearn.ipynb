{
  "metadata": {
    "kernelspec": {
      "name": "python",
      "display_name": "Python (Pyodide)",
      "language": "python"
    },
    "language_info": {
      "codemirror_mode": {
        "name": "ipython",
        "version": 3
      },
      "file_extension": ".py",
      "mimetype": "text/x-python",
      "name": "python",
      "nbconvert_exporter": "python",
      "pygments_lexer": "ipython3",
      "version": "3.9.13"
    }
  },
  "nbformat_minor": 4,
  "nbformat": 4,
  "cells": [
    {
      "cell_type": "markdown",
      "source": "<img src=\"hs.png\" width=\"200\">",
      "metadata": {}
    },
    {
      "cell_type": "markdown",
      "source": "# SCecision trees\n\n## Remark:\nIn order for this notebook to work propely, you must also download the files to the same folder where you downloaded it (they contain data, you can open them and view them with Notepad or another text editor:\n* data.csv\n* data_s.csv\n* to_classify.csv\n* dt.png\n\n\n## 1. data preparation\n\nDecision trees are on of the simplest and the most intuitive machine learning models. In this notebook, we will introduce you to their functioning using the example of data from a fictitious website for online shopping\n\nWe will use the Python 3 language and a copious amount of examples and illustrations. Also we will learn step by step how Python programming code looks like, and we will be glad if this is also an incentive for you to learn Python, which is extremely useful in today's business world.\n\nFirst we will load the data. To do this, you click on the next cell (where it says \"**In[   ]**\"), and press *Shift+Enter(Return)*. Wait until it says \"**In[\\*]**\" and until you se \"**In[1]**\", then the calculation is complete. As a result you should get the first five rows of the table.",
      "metadata": {}
    },
    {
      "cell_type": "code",
      "source": "import pandas as pd\ndata = pd.read_csv(\"data.csv\")\npodatci.head()",
      "metadata": {},
      "execution_count": null,
      "outputs": []
    },
    {
      "cell_type": "markdown",
      "source": "**Task 1:** We see that this short script (or program, or applcation) lists the first five lines from the table  \"algebra.csv\". In the cell below, try modifying the cript to list the firts ten lines:",
      "metadata": {}
    },
    {
      "cell_type": "code",
      "source": "data.head(5)#modify this line to get 10 lines",
      "metadata": {},
      "execution_count": 2,
      "outputs": [
        {
          "execution_count": 2,
          "output_type": "execute_result",
          "data": {
            "text/html": [
              "<div>\n",
              "<style scoped>\n",
              "    .dataframe tbody tr th:only-of-type {\n",
              "        vertical-align: middle;\n",
              "    }\n",
              "\n",
              "    .dataframe tbody tr th {\n",
              "        vertical-align: top;\n",
              "    }\n",
              "\n",
              "    .dataframe thead th {\n",
              "        text-align: right;\n",
              "    }\n",
              "</style>\n",
              "<table border=\"1\" class=\"dataframe\">\n",
              "  <thead>\n",
              "    <tr style=\"text-align: right;\">\n",
              "      <th></th>\n",
              "      <th>customer_id</th>\n",
              "      <th>age</th>\n",
              "      <th>prev_purchases_in_usd</th>\n",
              "      <th>gender</th>\n",
              "      <th>uses_whishlist</th>\n",
              "      <th>item_id</th>\n",
              "      <th>price</th>\n",
              "      <th>category</th>\n",
              "      <th>end_result</th>\n",
              "    </tr>\n",
              "  </thead>\n",
              "  <tbody>\n",
              "    <tr>\n",
              "      <th>0</th>\n",
              "      <td>1000</td>\n",
              "      <td>34</td>\n",
              "      <td>1234.55</td>\n",
              "      <td>f</td>\n",
              "      <td>1</td>\n",
              "      <td>234</td>\n",
              "      <td>89.99</td>\n",
              "      <td>tech</td>\n",
              "      <td>3</td>\n",
              "    </tr>\n",
              "    <tr>\n",
              "      <th>1</th>\n",
              "      <td>1001</td>\n",
              "      <td>23</td>\n",
              "      <td>0.00</td>\n",
              "      <td>m</td>\n",
              "      <td>1</td>\n",
              "      <td>257</td>\n",
              "      <td>13.45</td>\n",
              "      <td>tech</td>\n",
              "      <td>2</td>\n",
              "    </tr>\n",
              "    <tr>\n",
              "      <th>2</th>\n",
              "      <td>1002</td>\n",
              "      <td>44</td>\n",
              "      <td>0.00</td>\n",
              "      <td>f</td>\n",
              "      <td>0</td>\n",
              "      <td>222</td>\n",
              "      <td>54.99</td>\n",
              "      <td>book</td>\n",
              "      <td>3</td>\n",
              "    </tr>\n",
              "    <tr>\n",
              "      <th>3</th>\n",
              "      <td>1922</td>\n",
              "      <td>35</td>\n",
              "      <td>0.00</td>\n",
              "      <td>f</td>\n",
              "      <td>0</td>\n",
              "      <td>258</td>\n",
              "      <td>11.45</td>\n",
              "      <td>tech</td>\n",
              "      <td>2</td>\n",
              "    </tr>\n",
              "    <tr>\n",
              "      <th>4</th>\n",
              "      <td>1004</td>\n",
              "      <td>34</td>\n",
              "      <td>900.99</td>\n",
              "      <td>m</td>\n",
              "      <td>1</td>\n",
              "      <td>334</td>\n",
              "      <td>99.99</td>\n",
              "      <td>tech</td>\n",
              "      <td>2</td>\n",
              "    </tr>\n",
              "  </tbody>\n",
              "</table>\n",
              "</div>"
            ],
            "text/plain": [
              "   customer_id  age  prev_purchases_in_usd gender  uses_whishlist  item_id  \\\n",
              "0         1000   34                1234.55      f               1      234   \n",
              "1         1001   23                   0.00      m               1      257   \n",
              "2         1002   44                   0.00      f               0      222   \n",
              "3         1922   35                   0.00      f               0      258   \n",
              "4         1004   34                 900.99      m               1      334   \n",
              "\n",
              "   price category end_result  \n",
              "0  89.99     tech          3  \n",
              "1  13.45     tech          2  \n",
              "2  54.99     book          3  \n",
              "3  11.45     tech          2  \n",
              "4  99.99     tech          2  "
            ]
          },
          "metadata": {}
        }
      ]
    },
    {
      "cell_type": "markdown",
      "source": "## 2. The idea behind the classifier\n\nA decision tree is conceptually the simplest machine learning algorithm, so we will show how machine learning works on it. \n\nMachine learning algorithms can be roughly divided into  *classifocation* algorithms and *clustering* algorithms . A decision tree is a classification algorithm.\n\nClassification generally works like this. We declare one column from the data table as  the **targeted** variable. In our case is the  *end_result* column, but it can be any other column that we are interested in  (that is, for which we want to find out how the values in the other columns  *predicts* it)\n\nLet's raise the first three columns of our table( press *Shift+Enter* on the next cell):",
      "metadata": {}
    },
    {
      "cell_type": "code",
      "source": "data.head(3)",
      "metadata": {},
      "execution_count": null,
      "outputs": []
    },
    {
      "cell_type": "markdown",
      "source": "The meaning of the *end_result* is next:\n* Value 0 means \"abandoned cart\"\n* Value 1 means \"unfinished payment\"\n* Value 2 means \"card declined during payment\"\n* Value 3 means \"Successful payment\"\n\nLet's imagine for now these three lines. If our target variable is *end_result*, then it means that we want to predict the value of  *end_result* based on the results in other columns. For example, if we want to predict who abandoned the cart, we see that it is true on these three lines \"If **gender = m**, then **end_result = 2**\".\n\n**gender = m** is called a *predictor* for target variable **end_result** (that is,to recognize when  **end_result = 2**). Notice that **gender = m** is a predictor, while  **gender** itself is called *property* odnosno *feature* \n\nThere can be more predictors, and in this example we see that there are more:\n\n* **gender = m**\n* **age < 28** (also it could have been 24, 25, 26,...,32, but we chose 28 because it is in the middle)\n* **item_id > 250** (again , it can be any value that separates them)\n* Can you find another? (hint: price)\n\nWe also note that predictors can be complex. For example, the predictor **prev_purchases_in_usd = 0 AND uses_whishlist = 1** also works well. This predictor also points to  **end_result = 2**.\n\nAs a small digression, how would we formulate a predictor using the feature **prev_purchases_in_usd = 0** i **uses_whishlist = 1** for **end_result = 2**?\n\nThe answer is **prev_purchases_in_usd > 0 OR uses_whishlist = 0** (notice the changes, AND in OR, and values).\n\nBut let's go back to decision trees. Let's load the following table row:",
      "metadata": {}
    },
    {
      "cell_type": "code",
      "source": "data.head(4)",
      "metadata": {},
      "execution_count": null,
      "outputs": []
    },
    {
      "cell_type": "markdown",
      "source": "Now **gender = m**, **age < 28**, **item_id > 0** are no longer good predictors,nor is our complex predictor. The price based predictor still works. Let's load another table row:\n",
      "metadata": {}
    },
    {
      "cell_type": "code",
      "source": "data.head(5)",
      "metadata": {},
      "execution_count": null,
      "outputs": []
    },
    {
      "cell_type": "markdown",
      "source": "In theory, we could manually construct the predictors to catch the correct cases. For example  **price < 20 AND price > 95**, or even better we would take **customer_id = 1001 OR customer_id = 1922 OR customer_id = 1004**. This would lead us in the totally wrong direction. \n\nWe wany yo create a tool that will predict for future customers whether they will abandon or not, and thw method of counting by **customer_id** (means focusing only on this column without thinking about other features) who has abandoned so far will certainly nt help us to win a client **customer_id = 5555**, neither to keep the customer **customer_id = 0003**.\n\n\n## 3. Classification and marketing\n\nHere it is appropriate to give one important maxim:\n\n_**Acquisition of new clients and retention of existing clients are the two main tasks of marketing**._ \n\nThe emphasis may be a little more on one or the other, but this is the *essence* of marketing. \n\nWe want to \"learn\" from the data the cobination of properties shared by customers who have given up, and then, based on that combinatiom, try to see what our problem is, but also predict whether customer 5555 will have the same problem, and thus be able to act preventively on his retention. In practice, retention is the most common way to eliminate difficulties for clients, beacuse the main reason for leaving (which we can act on) is some problem with our system. Of course, there are other reasons, but they are (a) significantly more difficult to find, and (b) significantly more difficult to act on.\n\nAnother aspect of this analysis is to see where there is room for acqusition. The asquisition is simpler on the one hand, and more complex on the other.\n\nIt is easier to find the best predictor for  **end_result = 3**, and analyze the result. With a little luck, among the best results we will have valuable insights, eg. **age > 25 AND age < 40 AND gender = f**, with which we can then run very good targeted campaigns.\n\nIt is more complex in that the acquisition can also be viewed in the way of  *cross-selling*, that is, if we have learned from our data that clients who buy any book for over 70 USD most often also buy item 258, then anyone who puts in basket a book over 70 USD  we want to offer and an item 258 (maybe with a discount) \n\n\n## 4. Decision trees\n\nDecision trees select features and combine them so that a specific oreder of their application is obtained. The main trick is to measure which features give the best disicirmination, and take them first. A good example is predicting who did (and who would) survive on the  _Titanic_ (borrowing an image from Wikipedia)\n\n<img src=\"dt.png\">\n\nThe numbers below the elements of the image indicate the probability of survival (decimal numbers of the form 0.34), and the percentage of the tatal caeses that are in that category (Which, for the sake of rounding, add up to 101%, but this is not important noe). A probability of survival above 0.5 is considered the \"survived\" category, and below 0.5 is considered the \"died\" category (this technique where the numerical scale is divided into two categories before and after a ceryain limit is called \"thresholding\").\n\nSo, if a person is female, her probability of survival is 0.73 (73%). If he is a male and older than 9.5 years, then he probably died (survival probability  0.17, i.e. 17%). Male persons younger than 9.5 years who have less than 2.5 brothers and sisters had the best chance of survival (0.89, or 89% chance, although  there were very few of them, or 2% of the total population). This 2% means that there were quite a few samples with this predictor (**sex = m AND age < 9.5 AND sibsp < 2.5**), which means that perhaps this classification is not the most reliable, that is, it may be too dependent on the chance.\n\nClassification based on gender gives a 0.73 chance of survival, but this has the ability to easily (with only one feature **sex**) capture 36% of the overall data. In a certain sense, it is the strongest feature and the most stable (which also follows common sense intuition). \n\nThis is the basis of the functioning of decision trees: the decision tree tries to find an order by delimiting first by the strongest feature, and then by the weaker feature. \n\nThis does **not** mean that the strongest feature is the one that gives the greatest chance of survival (that is, the biggest difference regarding *thresholdinga*), because that is no longer importnant, what matters is whether it is above 0.5, so it gets the lable \"SURVIVABLE\" or below, so it gets the lable \"DYING\". \n\nThe strongest feature is the one that best divides the samples, so in our case 36% vs 64%. The details of how the tree calculates exactly which oreder it will go in are complex ( and that's exactly why we use an algorithm and not do this manually), but this description is the intuition behind it.\n\nNow we are ready to build a decision tree over our data. The next few cells shoul be executed with Shift+Enter, and we give explanations below them.",
      "metadata": {}
    },
    {
      "cell_type": "code",
      "source": "import pandas as pd\nfrom sklearn import tree",
      "metadata": {},
      "execution_count": 3,
      "outputs": []
    },
    {
      "cell_type": "markdown",
      "source": "A quick comment:\n\n* The first line serves to load the additional module \"Pandas\" which serves as a table (similar to Excel),\n* The second line loads an additional Python module (sklearn) zfor its submodule (tree) for decision trees,\n\nThe next step is to load the data(Shift+Enter to the bottom cell):",
      "metadata": {}
    },
    {
      "cell_type": "code",
      "source": "data_2 = pd.read_csv(\"data_s.csv\")",
      "metadata": {},
      "execution_count": 5,
      "outputs": []
    },
    {
      "cell_type": "markdown",
      "source": "**NOTE:** this is not the same table as the one above, but the number of columns has been reduced (the rows are the same). Execute the cell below to see the first few rows:",
      "metadata": {}
    },
    {
      "cell_type": "code",
      "source": "data_2.head()",
      "metadata": {},
      "execution_count": null,
      "outputs": []
    },
    {
      "cell_type": "markdown",
      "source": "Column **customer_id** is not needed anyomre,so we are going to remove it:",
      "metadata": {}
    },
    {
      "cell_type": "code",
      "source": "data_3 = data_2.drop('customer_id',axis=1)\ndata_3.head()#this line is overlooking if did everything fine",
      "metadata": {},
      "execution_count": 6,
      "outputs": [
        {
          "execution_count": 6,
          "output_type": "execute_result",
          "data": {
            "text/html": [
              "<div>\n",
              "<style scoped>\n",
              "    .dataframe tbody tr th:only-of-type {\n",
              "        vertical-align: middle;\n",
              "    }\n",
              "\n",
              "    .dataframe tbody tr th {\n",
              "        vertical-align: top;\n",
              "    }\n",
              "\n",
              "    .dataframe thead th {\n",
              "        text-align: right;\n",
              "    }\n",
              "</style>\n",
              "<table border=\"1\" class=\"dataframe\">\n",
              "  <thead>\n",
              "    <tr style=\"text-align: right;\">\n",
              "      <th></th>\n",
              "      <th>age</th>\n",
              "      <th>price</th>\n",
              "      <th>end_result</th>\n",
              "    </tr>\n",
              "  </thead>\n",
              "  <tbody>\n",
              "    <tr>\n",
              "      <th>0</th>\n",
              "      <td>34</td>\n",
              "      <td>89.99</td>\n",
              "      <td>3</td>\n",
              "    </tr>\n",
              "    <tr>\n",
              "      <th>1</th>\n",
              "      <td>23</td>\n",
              "      <td>13.45</td>\n",
              "      <td>2</td>\n",
              "    </tr>\n",
              "    <tr>\n",
              "      <th>2</th>\n",
              "      <td>44</td>\n",
              "      <td>54.99</td>\n",
              "      <td>3</td>\n",
              "    </tr>\n",
              "    <tr>\n",
              "      <th>3</th>\n",
              "      <td>35</td>\n",
              "      <td>11.45</td>\n",
              "      <td>2</td>\n",
              "    </tr>\n",
              "    <tr>\n",
              "      <th>4</th>\n",
              "      <td>34</td>\n",
              "      <td>99.99</td>\n",
              "      <td>2</td>\n",
              "    </tr>\n",
              "  </tbody>\n",
              "</table>\n",
              "</div>"
            ],
            "text/plain": [
              "   age  price  end_result\n",
              "0   34  89.99           3\n",
              "1   23  13.45           2\n",
              "2   44  54.99           3\n",
              "3   35  11.45           2\n",
              "4   34  99.99           2"
            ]
          },
          "metadata": {}
        }
      ]
    },
    {
      "cell_type": "markdown",
      "source": "The next step is to split the data into two tables, one that has a feature and the other that has  **end_result** in it (we do this because that's how SKlearn wants to recive data):",
      "metadata": {}
    },
    {
      "cell_type": "code",
      "source": "feature = data_3[[\"age\",\"price\"]]\nfeature.head()",
      "metadata": {},
      "execution_count": 7,
      "outputs": [
        {
          "execution_count": 7,
          "output_type": "execute_result",
          "data": {
            "text/html": [
              "<div>\n",
              "<style scoped>\n",
              "    .dataframe tbody tr th:only-of-type {\n",
              "        vertical-align: middle;\n",
              "    }\n",
              "\n",
              "    .dataframe tbody tr th {\n",
              "        vertical-align: top;\n",
              "    }\n",
              "\n",
              "    .dataframe thead th {\n",
              "        text-align: right;\n",
              "    }\n",
              "</style>\n",
              "<table border=\"1\" class=\"dataframe\">\n",
              "  <thead>\n",
              "    <tr style=\"text-align: right;\">\n",
              "      <th></th>\n",
              "      <th>age</th>\n",
              "      <th>price</th>\n",
              "    </tr>\n",
              "  </thead>\n",
              "  <tbody>\n",
              "    <tr>\n",
              "      <th>0</th>\n",
              "      <td>34</td>\n",
              "      <td>89.99</td>\n",
              "    </tr>\n",
              "    <tr>\n",
              "      <th>1</th>\n",
              "      <td>23</td>\n",
              "      <td>13.45</td>\n",
              "    </tr>\n",
              "    <tr>\n",
              "      <th>2</th>\n",
              "      <td>44</td>\n",
              "      <td>54.99</td>\n",
              "    </tr>\n",
              "    <tr>\n",
              "      <th>3</th>\n",
              "      <td>35</td>\n",
              "      <td>11.45</td>\n",
              "    </tr>\n",
              "    <tr>\n",
              "      <th>4</th>\n",
              "      <td>34</td>\n",
              "      <td>99.99</td>\n",
              "    </tr>\n",
              "  </tbody>\n",
              "</table>\n",
              "</div>"
            ],
            "text/plain": [
              "   age  price\n",
              "0   34  89.99\n",
              "1   23  13.45\n",
              "2   44  54.99\n",
              "3   35  11.45\n",
              "4   34  99.99"
            ]
          },
          "metadata": {}
        }
      ]
    },
    {
      "cell_type": "code",
      "source": "results = data_3[[\"end_result\"]]\nresults.head()",
      "metadata": {},
      "execution_count": 8,
      "outputs": [
        {
          "execution_count": 8,
          "output_type": "execute_result",
          "data": {
            "text/html": [
              "<div>\n",
              "<style scoped>\n",
              "    .dataframe tbody tr th:only-of-type {\n",
              "        vertical-align: middle;\n",
              "    }\n",
              "\n",
              "    .dataframe tbody tr th {\n",
              "        vertical-align: top;\n",
              "    }\n",
              "\n",
              "    .dataframe thead th {\n",
              "        text-align: right;\n",
              "    }\n",
              "</style>\n",
              "<table border=\"1\" class=\"dataframe\">\n",
              "  <thead>\n",
              "    <tr style=\"text-align: right;\">\n",
              "      <th></th>\n",
              "      <th>end_result</th>\n",
              "    </tr>\n",
              "  </thead>\n",
              "  <tbody>\n",
              "    <tr>\n",
              "      <th>0</th>\n",
              "      <td>3</td>\n",
              "    </tr>\n",
              "    <tr>\n",
              "      <th>1</th>\n",
              "      <td>2</td>\n",
              "    </tr>\n",
              "    <tr>\n",
              "      <th>2</th>\n",
              "      <td>3</td>\n",
              "    </tr>\n",
              "    <tr>\n",
              "      <th>3</th>\n",
              "      <td>2</td>\n",
              "    </tr>\n",
              "    <tr>\n",
              "      <th>4</th>\n",
              "      <td>2</td>\n",
              "    </tr>\n",
              "  </tbody>\n",
              "</table>\n",
              "</div>"
            ],
            "text/plain": [
              "   end_result\n",
              "0           3\n",
              "1           2\n",
              "2           3\n",
              "3           2\n",
              "4           2"
            ]
          },
          "metadata": {}
        }
      ]
    },
    {
      "cell_type": "markdown",
      "source": "Let's revise that \"head\" means to print the first few results (default=5, if you want some other value, you should wirte it in brackets), and if you want to see the whole table, just write \"results\" instead of \"results.head()\".",
      "metadata": {}
    },
    {
      "cell_type": "code",
      "source": "tree = tree.DecisionTreeClassifier()\nBreza = tree.fit(features, results)",
      "metadata": {},
      "execution_count": 9,
      "outputs": []
    },
    {
      "cell_type": "markdown",
      "source": "The first line in the cell above creates a new empty tree from the SKlearn module, and the second line trains it over the data from the CSV table we explored. Now the tree is trained and lives in the system under the name \"Breza\" and is ready to classify new data.\n\nLet's imagine that we now get a table of customers who are currently on the page and buying, and that is the \"to_classify.csv\". Let's lead that table  (Shift+Enter to the bottom cell)",
      "metadata": {}
    },
    {
      "cell_type": "code",
      "source": "cleints_on_the_site = pd.read_csv(\"to_classify.csv\") #this prints the table\nclients_on_the_site",
      "metadata": {},
      "execution_count": 10,
      "outputs": [
        {
          "execution_count": 10,
          "output_type": "execute_result",
          "data": {
            "text/html": [
              "<div>\n",
              "<style scoped>\n",
              "    .dataframe tbody tr th:only-of-type {\n",
              "        vertical-align: middle;\n",
              "    }\n",
              "\n",
              "    .dataframe tbody tr th {\n",
              "        vertical-align: top;\n",
              "    }\n",
              "\n",
              "    .dataframe thead th {\n",
              "        text-align: right;\n",
              "    }\n",
              "</style>\n",
              "<table border=\"1\" class=\"dataframe\">\n",
              "  <thead>\n",
              "    <tr style=\"text-align: right;\">\n",
              "      <th></th>\n",
              "      <th>age</th>\n",
              "      <th>price</th>\n",
              "    </tr>\n",
              "  </thead>\n",
              "  <tbody>\n",
              "    <tr>\n",
              "      <th>0</th>\n",
              "      <td>23</td>\n",
              "      <td>45.67</td>\n",
              "    </tr>\n",
              "    <tr>\n",
              "      <th>1</th>\n",
              "      <td>56</td>\n",
              "      <td>23.45</td>\n",
              "    </tr>\n",
              "    <tr>\n",
              "      <th>2</th>\n",
              "      <td>12</td>\n",
              "      <td>99.99</td>\n",
              "    </tr>\n",
              "    <tr>\n",
              "      <th>3</th>\n",
              "      <td>34</td>\n",
              "      <td>23.45</td>\n",
              "    </tr>\n",
              "    <tr>\n",
              "      <th>4</th>\n",
              "      <td>56</td>\n",
              "      <td>89.67</td>\n",
              "    </tr>\n",
              "    <tr>\n",
              "      <th>5</th>\n",
              "      <td>35</td>\n",
              "      <td>56.78</td>\n",
              "    </tr>\n",
              "    <tr>\n",
              "      <th>6</th>\n",
              "      <td>28</td>\n",
              "      <td>123.45</td>\n",
              "    </tr>\n",
              "    <tr>\n",
              "      <th>7</th>\n",
              "      <td>70</td>\n",
              "      <td>14.67</td>\n",
              "    </tr>\n",
              "    <tr>\n",
              "      <th>8</th>\n",
              "      <td>67</td>\n",
              "      <td>99.67</td>\n",
              "    </tr>\n",
              "    <tr>\n",
              "      <th>9</th>\n",
              "      <td>50</td>\n",
              "      <td>50.00</td>\n",
              "    </tr>\n",
              "  </tbody>\n",
              "</table>\n",
              "</div>"
            ],
            "text/plain": [
              "   age   price\n",
              "0   23   45.67\n",
              "1   56   23.45\n",
              "2   12   99.99\n",
              "3   34   23.45\n",
              "4   56   89.67\n",
              "5   35   56.78\n",
              "6   28  123.45\n",
              "7   70   14.67\n",
              "8   67   99.67\n",
              "9   50   50.00"
            ]
          },
          "metadata": {}
        }
      ]
    },
    {
      "cell_type": "markdown",
      "source": "Now let's run Breza over this data:",
      "metadata": {}
    },
    {
      "cell_type": "code",
      "source": "pred = Breza.predict(clients_on_the_site)\npred",
      "metadata": {},
      "execution_count": 11,
      "outputs": [
        {
          "execution_count": 11,
          "output_type": "execute_result",
          "data": {
            "text/plain": [
              "array([2, 1, 0, 2, 3, 3, 3, 1, 0, 3], dtype=int64)"
            ]
          },
          "metadata": {}
        }
      ]
    },
    {
      "cell_type": "markdown",
      "source": "In this way, Breza wrote down what each of the clients would most likely do.\nLet's remember:\n\n* Value 0 means \"abandoned cart\"\n* Value 1 means \"unfinished payment\"\n* Value 2 means \"card desclined during payment\"\n* Value 3 means \"Successful payment\"\n\nWe can add this data to the table in the new  **expected_action**:",
      "metadata": {}
    },
    {
      "cell_type": "code",
      "source": "clients_on_the_site['expected_action'] = pred\nclients_on_the_site",
      "metadata": {},
      "execution_count": null,
      "outputs": []
    }
  ]
}